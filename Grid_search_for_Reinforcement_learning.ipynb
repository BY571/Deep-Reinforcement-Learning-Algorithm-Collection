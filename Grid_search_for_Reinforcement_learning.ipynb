{
  "nbformat": 4,
  "nbformat_minor": 0,
  "metadata": {
    "colab": {
      "name": "Grid search for Reinforcement learning.ipynb",
      "version": "0.3.2",
      "provenance": [],
      "collapsed_sections": []
    },
    "kernelspec": {
      "name": "python3",
      "display_name": "Python 3"
    }
  },
  "cells": [
    {
      "cell_type": "code",
      "metadata": {
        "id": "p18p7nKqFCAt",
        "colab_type": "code",
        "colab": {}
      },
      "source": [
        "\n",
        "import matplotlib.pyplot as plt\n",
        "from sklearn.model_selection import ParameterGrid"
      ],
      "execution_count": 0,
      "outputs": []
    },
    {
      "cell_type": "code",
      "metadata": {
        "id": "QOWpOf0rGAAG",
        "colab_type": "code",
        "colab": {}
      },
      "source": [
        "def run_algorithm (env, params, episodes = 100, aerl = 10):\n",
        "  \"\"\"\n",
        "  for testing reasons only returns a random number as for the average reward over the last x episodes (aerl = average episode reward length)\n",
        "  Every RL-algorithm needs to have the same input values and should return the average over the last (aerl) episodes!\n",
        "  \"\"\"\n",
        "  return np.random.randint(0,100)"
      ],
      "execution_count": 0,
      "outputs": []
    },
    {
      "cell_type": "code",
      "metadata": {
        "id": "WU_oRbvVF_-O",
        "colab_type": "code",
        "colab": {}
      },
      "source": [
        "class GridsearchRL():\n",
        "  def __init__(self, function, params, episodes= 100, aerl = 10):\n",
        "    self.function = function\n",
        "    self.episodes = episodes\n",
        "    self.aerl = aerl\n",
        "    self.params = params\n",
        "    self.grid = ParameterGrid(params)\n",
        "    self.grid_len = len(self.grid)\n",
        "    self.history = dict()\n",
        "    \n",
        "  def run_gridsearch(self, env):\n",
        "    \"\"\"\n",
        "    Run the grid search on the given environment.\n",
        "    \"\"\"\n",
        "    for idx, parameters in enumerate(self.grid):\n",
        "      result = self.function(env, parameters, self.episodes, self.aerl)\n",
        "      self.history.update({str(parameters): result})\n",
        "      print(\"\\rSearch progress [{}/{}]\".format(idx+1, self.grid_len), end = \"\", flush =True)\n",
        "  \n",
        "  \n",
        "  def results(self):\n",
        "    \"\"\"\n",
        "    Plots the grid search results\n",
        "    \"\"\"\n",
        "    plt.plot(*zip(*self.history.items()))\n",
        "    plt.xticks(rotation = 90)\n",
        "    plt.title(\" - Results - \")\n",
        "    plt.ylabel(\"average return over the last {} episodes\".format(self.aerl))\n",
        "    plt.show()\n",
        "    "
      ],
      "execution_count": 0,
      "outputs": []
    },
    {
      "cell_type": "code",
      "metadata": {
        "id": "f-XxXJzSF_75",
        "colab_type": "code",
        "colab": {}
      },
      "source": [
        "search1 = GridsearchRL(run_algorithm, params,)"
      ],
      "execution_count": 0,
      "outputs": []
    },
    {
      "cell_type": "code",
      "metadata": {
        "id": "pocLyeb6MS1_",
        "colab_type": "code",
        "colab": {
          "base_uri": "https://localhost:8080/",
          "height": 33
        },
        "outputId": "37279323-65b4-4af0-ad8e-33e749666365"
      },
      "source": [
        "search1.run_gridsearch(\"a\")"
      ],
      "execution_count": 79,
      "outputs": [
        {
          "output_type": "stream",
          "text": [
            "Search progress [9/9]"
          ],
          "name": "stdout"
        }
      ]
    },
    {
      "cell_type": "code",
      "metadata": {
        "id": "VzAysJJbMSwh",
        "colab_type": "code",
        "colab": {
          "base_uri": "https://localhost:8080/",
          "height": 167
        },
        "outputId": "c154cf12-8a02-4000-96ed-df1f11caca59"
      },
      "source": [
        "search1.history\n"
      ],
      "execution_count": 80,
      "outputs": [
        {
          "output_type": "execute_result",
          "data": {
            "text/plain": [
              "{\"{'a': 1, 'b': 1}\": 58,\n",
              " \"{'a': 1, 'b': 2}\": 68,\n",
              " \"{'a': 1, 'b': 3}\": 80,\n",
              " \"{'a': 2, 'b': 1}\": 16,\n",
              " \"{'a': 2, 'b': 2}\": 2,\n",
              " \"{'a': 2, 'b': 3}\": 49,\n",
              " \"{'a': 3, 'b': 1}\": 0,\n",
              " \"{'a': 3, 'b': 2}\": 17,\n",
              " \"{'a': 3, 'b': 3}\": 89}"
            ]
          },
          "metadata": {
            "tags": []
          },
          "execution_count": 80
        }
      ]
    },
    {
      "cell_type": "code",
      "metadata": {
        "id": "xGbnr8bqF_3D",
        "colab_type": "code",
        "colab": {
          "base_uri": "https://localhost:8080/",
          "height": 340
        },
        "outputId": "9961e221-44d9-4cc0-fb65-1c5bebab22c2"
      },
      "source": [
        "search1.results()"
      ],
      "execution_count": 81,
      "outputs": [
        {
          "output_type": "display_data",
          "data": {
            "image/png": "[encoded data removed]",
            "text/plain": [
              "<Figure size 432x288 with 1 Axes>"
            ]
          },
          "metadata": {
            "tags": []
          }
        }
      ]
    },
    {
      "cell_type": "code",
      "metadata": {
        "id": "rhBDcgvIPjAB",
        "colab_type": "code",
        "colab": {}
      },
      "source": [
        ""
      ],
      "execution_count": 0,
      "outputs": []
    }
  ]
}