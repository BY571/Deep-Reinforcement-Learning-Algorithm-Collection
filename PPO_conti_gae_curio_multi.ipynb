{
  "nbformat": 4,
  "nbformat_minor": 0,
  "metadata": {
    "colab": {
      "name": "PPO_conti_gae_curio_multi.ipynb",
      "provenance": [],
      "collapsed_sections": []
    },
    "kernelspec": {
      "name": "python3",
      "display_name": "Python 3"
    }
  },
  "cells": [
    {
      "cell_type": "code",
      "metadata": {
        "id": "vJkwdUkfbvQr",
        "colab_type": "code",
        "colab": {
          "base_uri": "https://localhost:8080/",
          "height": 306
        },
        "outputId": "bce57d57-b474-419e-afa3-2d369fa3989f"
      },
      "source": [
        "import gym\n",
        "import math\n",
        "import torch \n",
        "import torch.nn as nn\n",
        "import torch.optim as optim\n",
        "from torch.distributions import Normal\n",
        "import torch.nn.functional as F\n",
        "import numpy as np\n",
        "import matplotlib.pyplot as plt\n",
        "from torch.nn.utils import clip_grad_norm_\n",
        "from collections import deque\n",
        "\n",
        "!pip install box2d-py\n",
        "!pip install gym[Box_2D]"
      ],
      "execution_count": 1,
      "outputs": [
        {
          "output_type": "stream",
          "text": [
            "Collecting box2d-py\n",
            "\u001b[?25l  Downloading https://files.pythonhosted.org/packages/06/bd/6cdc3fd994b0649dcf5d9bad85bd9e26172308bbe9a421bfc6fdbf5081a6/box2d_py-2.3.8-cp36-cp36m-manylinux1_x86_64.whl (448kB)\n",
            "\u001b[K     |████████████████████████████████| 450kB 2.3MB/s \n",
            "\u001b[?25hInstalling collected packages: box2d-py\n",
            "Successfully installed box2d-py-2.3.8\n",
            "Requirement already satisfied: gym[Box_2D] in /usr/local/lib/python3.6/dist-packages (0.10.11)\n",
            "\u001b[33m  WARNING: gym 0.10.11 does not provide the extra 'box_2d'\u001b[0m\n",
            "Requirement already satisfied: pyglet>=1.2.0 in /usr/local/lib/python3.6/dist-packages (from gym[Box_2D]) (1.4.3)\n",
            "Requirement already satisfied: requests>=2.0 in /usr/local/lib/python3.6/dist-packages (from gym[Box_2D]) (2.21.0)\n",
            "Requirement already satisfied: six in /usr/local/lib/python3.6/dist-packages (from gym[Box_2D]) (1.12.0)\n",
            "Requirement already satisfied: scipy in /usr/local/lib/python3.6/dist-packages (from gym[Box_2D]) (1.3.1)\n",
            "Requirement already satisfied: numpy>=1.10.4 in /usr/local/lib/python3.6/dist-packages (from gym[Box_2D]) (1.16.5)\n",
            "Requirement already satisfied: future in /usr/local/lib/python3.6/dist-packages (from pyglet>=1.2.0->gym[Box_2D]) (0.16.0)\n",
            "Requirement already satisfied: idna<2.9,>=2.5 in /usr/local/lib/python3.6/dist-packages (from requests>=2.0->gym[Box_2D]) (2.8)\n",
            "Requirement already satisfied: certifi>=2017.4.17 in /usr/local/lib/python3.6/dist-packages (from requests>=2.0->gym[Box_2D]) (2019.6.16)\n",
            "Requirement already satisfied: chardet<3.1.0,>=3.0.2 in /usr/local/lib/python3.6/dist-packages (from requests>=2.0->gym[Box_2D]) (3.0.4)\n",
            "Requirement already satisfied: urllib3<1.25,>=1.21.1 in /usr/local/lib/python3.6/dist-packages (from requests>=2.0->gym[Box_2D]) (1.24.3)\n"
          ],
          "name": "stdout"
        }
      ]
    },
    {
      "cell_type": "code",
      "metadata": {
        "id": "oJndP12tsVw7",
        "colab_type": "code",
        "colab": {}
      },
      "source": [
        "from multiprocessing import Process, Pipe\n",
        "import numpy as np\n",
        "\n",
        "def worker(remote, parent_remote, env_fn_wrapper):\n",
        "    parent_remote.close()\n",
        "    env = env_fn_wrapper.x()\n",
        "    while True:\n",
        "        cmd, data = remote.recv()\n",
        "        if cmd == 'step':\n",
        "            ob, reward, done, info = env.step(data)\n",
        "            if done:\n",
        "                ob = env.reset()\n",
        "            remote.send((ob, reward, done, info))\n",
        "        elif cmd == 'reset':\n",
        "            ob = env.reset()\n",
        "            remote.send(ob)\n",
        "        elif cmd == 'reset_task':\n",
        "            ob = env.reset_task()\n",
        "            remote.send(ob)\n",
        "        elif cmd == 'close':\n",
        "            remote.close()\n",
        "            break\n",
        "        elif cmd == 'get_spaces':\n",
        "            remote.send((env.observation_space, env.action_space))\n",
        "        else:\n",
        "            raise NotImplementedError\n",
        "\n",
        "class CloudpickleWrapper(object):\n",
        "    \"\"\"\n",
        "    Uses cloudpickle to serialize contents (otherwise multiprocessing tries to use pickle)\n",
        "    \"\"\"\n",
        "    def __init__(self, x):\n",
        "        self.x = x\n",
        "    def __getstate__(self):\n",
        "        import cloudpickle\n",
        "        return cloudpickle.dumps(self.x)\n",
        "    def __setstate__(self, ob):\n",
        "        import pickle\n",
        "        self.x = pickle.loads(ob)\n",
        "        \n",
        "\n",
        "class VecEnv(object):\n",
        "    \"\"\"\n",
        "    An abstract asynchronous, vectorized environment.\n",
        "    \"\"\"\n",
        "    def __init__(self, num_envs, observation_space, action_space):\n",
        "        self.num_envs = num_envs\n",
        "        self.observation_space = observation_space\n",
        "        self.action_space = action_space\n",
        "\n",
        "    def reset(self):\n",
        "        \"\"\"\n",
        "        Reset all the environments and return an array of\n",
        "        observations, or a tuple of observation arrays.\n",
        "        If step_async is still doing work, that work will\n",
        "        be cancelled and step_wait() should not be called\n",
        "        until step_async() is invoked again.\n",
        "        \"\"\"\n",
        "        pass\n",
        "\n",
        "    def step_async(self, actions):\n",
        "        \"\"\"\n",
        "        Tell all the environments to start taking a step\n",
        "        with the given actions.\n",
        "        Call step_wait() to get the results of the step.\n",
        "        You should not call this if a step_async run is\n",
        "        already pending.\n",
        "        \"\"\"\n",
        "        pass\n",
        "\n",
        "    def step_wait(self):\n",
        "        \"\"\"\n",
        "        Wait for the step taken with step_async().\n",
        "        Returns (obs, rews, dones, infos):\n",
        "         - obs: an array of observations, or a tuple of\n",
        "                arrays of observations.\n",
        "         - rews: an array of rewards\n",
        "         - dones: an array of \"episode done\" booleans\n",
        "         - infos: a sequence of info objects\n",
        "        \"\"\"\n",
        "        pass\n",
        "\n",
        "    def close(self):\n",
        "        \"\"\"\n",
        "        Clean up the environments' resources.\n",
        "        \"\"\"\n",
        "        pass\n",
        "\n",
        "    def step(self, actions):\n",
        "        self.step_async(actions)\n",
        "        return self.step_wait()\n",
        "\n",
        "class SubprocVecEnv(VecEnv):\n",
        "    def __init__(self, env_fns, spaces=None):\n",
        "        \"\"\"\n",
        "        envs: list of gym environments to run in subprocesses\n",
        "        \"\"\"\n",
        "        self.waiting = False\n",
        "        self.closed = False\n",
        "        nenvs = len(env_fns)\n",
        "        self.nenvs = nenvs\n",
        "        self.remotes, self.work_remotes = zip(*[Pipe() for _ in range(nenvs)])\n",
        "        self.ps = [Process(target=worker, args=(work_remote, remote, CloudpickleWrapper(env_fn)))\n",
        "            for (work_remote, remote, env_fn) in zip(self.work_remotes, self.remotes, env_fns)]\n",
        "        for p in self.ps:\n",
        "            p.daemon = True # if the main process crashes, we should not cause things to hang\n",
        "            p.start()\n",
        "        for remote in self.work_remotes:\n",
        "            remote.close()\n",
        "\n",
        "        self.remotes[0].send(('get_spaces', None))\n",
        "        observation_space, action_space = self.remotes[0].recv()\n",
        "        VecEnv.__init__(self, len(env_fns), observation_space, action_space)\n",
        "\n",
        "    def step_async(self, actions):\n",
        "        for remote, action in zip(self.remotes, actions):\n",
        "            remote.send(('step', action))\n",
        "        self.waiting = True\n",
        "\n",
        "    def step_wait(self):\n",
        "        results = [remote.recv() for remote in self.remotes]\n",
        "        self.waiting = False\n",
        "        obs, rews, dones, infos = zip(*results)\n",
        "        return np.stack(obs), np.stack(rews), np.stack(dones), infos\n",
        "\n",
        "    def reset(self):\n",
        "        for remote in self.remotes:\n",
        "            remote.send(('reset', None))\n",
        "        return np.stack([remote.recv() for remote in self.remotes])\n",
        "\n",
        "    def reset_task(self):\n",
        "        for remote in self.remotes:\n",
        "            remote.send(('reset_task', None))\n",
        "        return np.stack([remote.recv() for remote in self.remotes])\n",
        "\n",
        "    def close(self):\n",
        "        if self.closed:\n",
        "            return\n",
        "        if self.waiting:\n",
        "            for remote in self.remotes:            \n",
        "                remote.recv()\n",
        "        for remote in self.remotes:\n",
        "            remote.send(('close', None))\n",
        "        for p in self.ps:\n",
        "            p.join()\n",
        "            self.closed = True\n",
        "            \n",
        "    def __len__(self):\n",
        "        return self.nenvs"
      ],
      "execution_count": 0,
      "outputs": []
    },
    {
      "cell_type": "code",
      "metadata": {
        "id": "cJpiz1jlcBSt",
        "colab_type": "code",
        "colab": {}
      },
      "source": [
        "class Critic(nn.Module):\n",
        "    def __init__(self, input_shape):\n",
        "        super(Critic, self).__init__()\n",
        "        self.net = nn.Sequential(nn.Linear(input_shape, HIDDEN_SIZE),\n",
        "                                 nn.ReLU(),\n",
        "                                 nn.Linear(HIDDEN_SIZE,HIDDEN_SIZE),\n",
        "                                 nn.ReLU(),\n",
        "                                 nn.Linear(HIDDEN_SIZE, 1))\n",
        "    \n",
        "    def forward(self,x):\n",
        "        x = self.net(x)\n",
        "        return x\n",
        "      \n",
        "class Actor(nn.Module):\n",
        "    def __init__(self, input_shape, output_shape):\n",
        "        super(Actor, self).__init__()\n",
        "        self.net = nn.Sequential(nn.Linear(input_shape, HIDDEN_SIZE),\n",
        "                                 nn.ReLU(),\n",
        "                                 nn.Linear(HIDDEN_SIZE,HIDDEN_SIZE),\n",
        "                                 nn.ReLU())\n",
        "        self.mean = nn.Linear(HIDDEN_SIZE, output_shape)\n",
        "        self.variance = nn.Linear(HIDDEN_SIZE, output_shape)\n",
        "        \n",
        "\n",
        "    def forward(self, x):\n",
        "        \n",
        "        head = self.net(x)\n",
        "        mean = F.tanh(self.mean(head)) # tanh squashed output to the range of -1..1\n",
        "        variance = F.softplus(self.variance(head)) # log(1 + e^x) has the shape of a smoothed ReLU\n",
        "        sigma = torch.sqrt(variance.cpu())\n",
        "        m = Normal(mean.cpu(), sigma)\n",
        "        actions = m.sample()\n",
        "        actions = torch.clamp(actions, -1, 1) # usually clipping between -1,1 but pendulum env has action range of -2,2\n",
        "\n",
        "        logprobs = m.log_prob(actions) #for the optimization step we create a new distribution based on the new mean and variance - still taking the logprobs based on the old actions!\n",
        "\n",
        "    \n",
        "        return actions, logprobs, m\n",
        "    \n",
        "\n",
        "    \n",
        "class Encoder(nn.Module): \n",
        "  def __init__(self, state_size, enc_state_size=12, hidden_size=64):\n",
        "    super(Encoder, self).__init__()\n",
        "    self.encoder = nn.Sequential(nn.Linear(state_size, hidden_size),\n",
        "                                 nn.ReLU(),\n",
        "                                 nn.Linear(hidden_size, hidden_size),\n",
        "                                 nn.ReLU(),\n",
        "                                 nn.Linear(hidden_size, enc_state_size))\n",
        "  \n",
        "  def forward(self,x):\n",
        "    return self.encoder(x)\n",
        "\n",
        "class Inverse(nn.Module): \n",
        "  def __init__(self, action_size, enc_state_size, hidden_size=64):\n",
        "    super(Inverse, self).__init__()\n",
        "    self.inverse = nn.Sequential(nn.Linear(enc_state_size*2, hidden_size),\n",
        "                                 nn.ReLU(),\n",
        "                                 nn.Linear(hidden_size, hidden_size),\n",
        "                                 nn.ReLU(),\n",
        "                                 nn.Linear(hidden_size, action_size),)\n",
        "                                 #nn.Softmax(dim=1))\n",
        "  def forward(self, state1,state2):\n",
        "    x = torch.cat( (state1, state2), dim=1)\n",
        "    x = F.tanh(self.inverse(x))\n",
        "    #x = torch.clamp(x, -2, 2) # usually tanh clips between -1,1 but pendulum env has action range of -2,2\n",
        "    return x\n",
        "  \n",
        "  \n",
        "class Forward(nn.Module):\n",
        "  \"\"\"\n",
        "  \n",
        "  \"\"\"\n",
        "  def __init__(self, enc_state_size, action_size, hidden_size=64):\n",
        "    super(Forward, self).__init__()\n",
        "\n",
        "    self.forwardM = nn.Sequential(nn.Linear(enc_state_size+action_size, hidden_size),\n",
        "                                  nn.ReLU(),\n",
        "                                  nn.Linear(hidden_size, hidden_size),\n",
        "                                  nn.ReLU(),\n",
        "                                  nn.Linear(hidden_size,enc_state_size))\n",
        "    \n",
        "  def forward(self, state, action):\n",
        "    #print(action)\n",
        "    x = torch.cat((state,action), dim=1)\n",
        "    return self.forwardM(x)\n",
        "  "
      ],
      "execution_count": 0,
      "outputs": []
    },
    {
      "cell_type": "code",
      "metadata": {
        "id": "U9bO4hPLcWTw",
        "colab_type": "code",
        "colab": {}
      },
      "source": [
        "class Agent():\n",
        "  def __init__(self,\n",
        "               state_size,\n",
        "               action_size,\n",
        "               hidden_size,\n",
        "               extrinsic_reward=True,\n",
        "               LR=1e-4,\n",
        "               gamma=0.99,\n",
        "               lambda_=0.95,\n",
        "               mini_batch_size=512,\n",
        "               ppo_epochs=5):\n",
        "    \n",
        "    \n",
        "    self.actor = Actor(state_size, action_size).to(device)\n",
        "    self.critic = Critic(state_size).to(device)\n",
        "    \n",
        "    self.gamma = gamma\n",
        "    self.lambda_ = lambda_\n",
        "    self.mini_batch_size = mini_batch_size\n",
        "    self.ppo_epochs = ppo_epochs\n",
        "    \n",
        "    self.encoder = Encoder(state_size=state_size, enc_state_size=4)\n",
        "    self.inverse = Inverse(action_size=action_size, enc_state_size=4)\n",
        "    self.forwardM = Forward(enc_state_size=4, action_size=action_size)\n",
        "\n",
        "    self.forward_loss = nn.MSELoss(reduction='none')\n",
        "    self.inverse_loss = nn.PairwiseDistance()\n",
        "\n",
        "\n",
        "    self.all_parameters = list(self.actor.parameters())+list(self.critic.parameters())+list(self.encoder.parameters())+list(self.inverse.parameters())+list(self.forwardM.parameters())\n",
        "    self.optimizer = optim.RMSprop(params=self.all_parameters, lr=LR)\n",
        "    \n",
        "  def ICM(self, state1, action, state2, forward_scale=1., inverse_scale=1e4):\n",
        "    \"\"\"\n",
        "\n",
        "    \"\"\"\n",
        "    state1_hat = self.encoder(state1) \n",
        "    state2_hat = self.encoder(state2)\n",
        "\n",
        "    state2_hat_pred = self.forwardM(state1_hat.detach(), action.detach()) \n",
        "    forward_pred_err = forward_scale * self.forward_loss(state2_hat_pred, state2_hat.detach()).sum(dim=1).unsqueeze(dim=1)\n",
        "    pred_action = self.inverse(state1_hat, state2_hat) \n",
        "\n",
        "\n",
        "    inverse_pred_err = inverse_scale * self.inverse_loss(pred_action, action.detach()).unsqueeze(dim=1)    \n",
        "    return forward_pred_err, inverse_pred_err\n",
        "    \n",
        "\n",
        "  def test_net(self, count = 10):\n",
        "      \"\"\"\n",
        "      Tests the agents performance with current weights.\n",
        "      \"\"\"\n",
        "      rewards = 0.0\n",
        "      steps = 0\n",
        "      entropys = 0.0\n",
        "      for _ in range(count):\n",
        "          obs = env.reset()\n",
        "\n",
        "          while True:\n",
        "              obs_v = torch.from_numpy(obs).unsqueeze(0).float()\n",
        "              action, _, dist = self.actor(obs_v.to(device))\n",
        "              entropy = dist.entropy().detach().cpu().numpy()\n",
        "              obs, reward, done, info = env.step(action[0].cpu().numpy())\n",
        "\n",
        "              rewards += reward\n",
        "              entropys += entropy.mean()\n",
        "              steps += 1\n",
        "              if done:\n",
        "                  break\n",
        "\n",
        "      return rewards/count, entropys/count, steps/count\n",
        "\n",
        "\n",
        "\n",
        "\n",
        "  def compute_gae(self, next_value, rewards, masks, values):\n",
        "      \"\"\"\n",
        "      lambda => 1: high variance, low bias\n",
        "      lambda => 0: low variance, high bias\n",
        "      \"\"\"\n",
        "#       print(rewards)\n",
        "#       print(masks)\n",
        "      rewards_batch = rewards\n",
        "      masks_batch = list(zip(*masks))\n",
        "      values_batch = torch.cat((torch.stack(values, dim=1).squeeze(2), next_value.squeeze(0)),dim=1)\n",
        "      \n",
        "#       print(\"rewards:\",rewards_batch)\n",
        "#       print(\"masks;\", masks_batch)\n",
        "#       print(\"values_batch: \",values_batch)\n",
        "      \n",
        "      out_discounted_rewards = []\n",
        "      out_advantage = []\n",
        "      for rewards, masks, values  in zip(rewards_batch, masks_batch, values_batch):\n",
        "      \n",
        "        gae = 0\n",
        "        disc_returns = []\n",
        "        advantage = []\n",
        "        for step in reversed(range(len(rewards))):\n",
        "            # d = r_t +gamma*V(s_t+1) - V(s)\n",
        "            delta = rewards[step] + self.gamma * values[step + 1] * masks[step] - values[step]\n",
        "            # sum(lambda*gamma)^t* delta_t+1\n",
        "            gae = delta + self.gamma * self.lambda_ * masks[step] * gae\n",
        "\n",
        "            disc_returns.insert(0, gae + values[step]) # adding values since we want the returns and not the advantage yet!  A(a,s) = Q\"returns\" - V(s)\n",
        "            advantage.insert(0, gae)\n",
        "            \n",
        "        out_discounted_rewards.append(disc_returns)\n",
        "        out_advantage.append(advantage)\n",
        "        \n",
        "      return torch.FloatTensor(out_discounted_rewards).flatten().unsqueeze(1), torch.FloatTensor(out_advantage).flatten().unsqueeze(1)\n",
        "\n",
        "\n",
        "  def ppo_iter(self, states, actions, log_probs, advantage, discounted_rewards, curiosity_loss):\n",
        "      batch_size = len(states)\n",
        "\n",
        "      for i in range(batch_size // self.mini_batch_size):\n",
        "          rand_ids = np.random.randint(0, batch_size, self.mini_batch_size)\n",
        "\n",
        "          yield states[rand_ids], actions[rand_ids], log_probs[rand_ids], advantage[rand_ids], discounted_rewards[rand_ids], curiosity_loss[rand_ids]\n",
        "\n",
        "\n",
        "\n",
        "  def ppo_update(self, states, actions, log_probs, advantage, discounted_rewards, curiosity_loss, eps_clip=0.2):\n",
        "    \"\"\"\n",
        "\n",
        "    \"\"\"\n",
        "\n",
        "    a_loss_batch = []\n",
        "    c_loss_batch = []\n",
        "    icm_loss_batch = []\n",
        "\n",
        "    for _ in range(self.ppo_epochs):\n",
        "      for states_i, old_actions, old_logprobs, advantage_i, discounted_reward_i, cur_loss  in self.ppo_iter(states, actions, log_probs, advantage, discounted_rewards, curiosity_loss):\n",
        "\n",
        "        self.optimizer.zero_grad()\n",
        "\n",
        "        #train critic\n",
        "        new_value = self.critic(states_i.to(device))\n",
        "        c_loss = .5 * F.mse_loss(new_value, discounted_reward_i)\n",
        "\n",
        "        #train actor\n",
        "        _, _, dist = self.actor(states_i.to(device))\n",
        "        new_logprobs = dist.log_prob(old_actions)\n",
        "        entropy = dist.entropy().mean()\n",
        "\n",
        "        ratio = torch.exp(new_logprobs - old_logprobs.detach())\n",
        "        surr = ratio * advantage_i\n",
        "        clip = torch.clamp(ratio, 1.0 - eps_clip, 1.0 + eps_clip) \n",
        "        a_loss  = - (torch.min(surr, clip*advantage_i).mean()) + ENTROPY_BONUS * entropy\n",
        "\n",
        "        #train icm\n",
        "        cur_loss = cur_loss.mean() \n",
        "\n",
        "        #calculate combined loss:\n",
        "        overall_loss = SCALAR_BETA * (c_loss + a_loss) + cur_loss\n",
        "        overall_loss.backward(retain_graph=True)\n",
        "        self.optimizer.step()\n",
        "        \n",
        "        c_loss_batch.append(c_loss.detach().numpy())\n",
        "        a_loss_batch.append(a_loss.detach().numpy())      \n",
        "        icm_loss_batch.append(cur_loss.detach().numpy())\n",
        "\n",
        "\n",
        "    return np.array(c_loss_batch).mean(), np.array(a_loss_batch).mean(), np.array(icm_loss_batch).mean()"
      ],
      "execution_count": 0,
      "outputs": []
    },
    {
      "cell_type": "code",
      "metadata": {
        "id": "xHRtzJXocWKh",
        "colab_type": "code",
        "colab": {
          "base_uri": "https://localhost:8080/",
          "height": 567
        },
        "outputId": "eb39e94f-3a58-4c53-fcd2-4f9f470f6e99"
      },
      "source": [
        "ENV = \"MountainCarContinuous-v0\" #\"MountainCarContinuous-v0\"  #Pendulum-v0 LunarLanderContinuous-v0\n",
        "\n",
        "env = gym.make(ENV)#Creating the Environment\n",
        "\n",
        "n_cpu = 6\n",
        "\n",
        "envs = SubprocVecEnv([lambda: gym.make(ENV) for i in range(n_cpu)])\n",
        "\n",
        "torch.manual_seed(42)\n",
        "torch.cuda.manual_seed(42)\n",
        "np.random.seed(42)\n",
        "#env.seed(42)\n",
        "\n",
        "\n",
        "\n",
        "device = \"cuda\" if torch.cuda.is_available() else \"cpu\"\n",
        "print(\"Using: \", device)\n",
        "\n",
        "GAMMA = 0.99\n",
        "ETA = 1.    # Scaling factor for the influence of the intrinsic Reward\n",
        "BETA = 0.2\n",
        "SCALAR_BETA = 0.1\n",
        "EXTRINSIC_REWARD = True\n",
        "ENTROPY_BONUS = 0.00001\n",
        "LAMBDA = 0.95\n",
        "CLIP_GRAD = .1\n",
        "\n",
        "HIDDEN_SIZE = 96\n",
        "\n",
        "\n",
        "state_size  = env.observation_space.shape[0]\n",
        "action_size = env.action_space.shape[0]\n",
        "\n",
        "agent = Agent(state_size, action_size, hidden_size=256, extrinsic_reward=True, LR=1e-3)\n",
        "\n",
        "max_episodes = 300\n",
        "\n",
        "\n",
        "c_loss_list = []\n",
        "a_loss_list = []\n",
        "icm_loss_list = []\n",
        "entropy_list = []\n",
        "intrinsic_rewards = []\n",
        "\n",
        "average_100 = []\n",
        "plot_rewards = []\n",
        "max_steps = 1024\n",
        "\n",
        "# calc reshape stacking size\n",
        "shape = (max_steps*n_cpu, state_size)\n",
        "\n",
        "for ep in range(max_episodes+1):\n",
        "    states = envs.reset()\n",
        "\n",
        "    done = False\n",
        "    \n",
        "    state_batch = []\n",
        "    next_state_batch = []\n",
        "    value_batch = []\n",
        "    action_batch = []\n",
        "    logprob_batch = []\n",
        "    rewards_batch = []\n",
        "    masks = []\n",
        "    for step in range(max_steps):\n",
        "\n",
        "        states = torch.from_numpy(states).float()\n",
        "        action, logprob, _  = agent.actor(states.to(device))  \n",
        "        value = agent.critic(states.to(device))\n",
        "        next_states, reward, done, _ = envs.step(action.cpu().numpy())\n",
        "        \n",
        "        state_batch.append(states)\n",
        "        next_state_batch.append(torch.from_numpy(next_states).float())\n",
        "        value_batch.append(value)\n",
        "        logprob_batch.append(logprob)\n",
        "        action_batch.append(action)\n",
        "        rewards_batch.append(torch.from_numpy(reward).float())  \n",
        "        masks.append(torch.from_numpy(1 - done).float())\n",
        "\n",
        "        states = next_states\n",
        "\n",
        "        if np.any(done):\n",
        "          states = envs.reset()\n",
        "    \n",
        "    # stack all gathered data\n",
        "    \n",
        "    state_batch = torch.stack(state_batch,dim=1).reshape(shape)\n",
        "    next_state_batch = torch.stack(next_state_batch,dim=1).reshape(shape)\n",
        "    actions_batch = torch.stack(action_batch, dim=1).reshape(max_steps*n_cpu,action_size)\n",
        "    logprob_batch = torch.stack(logprob_batch, dim=1).reshape(max_steps*n_cpu,action_size)    \n",
        "    \n",
        "    # Intrinsic Curiosity Calculation\n",
        "    forward_pred_err, inverse_pred_err = agent.ICM(state_batch, actions_batch, next_state_batch)\n",
        "    rewards = ((1. / ETA) * forward_pred_err).detach()\n",
        "    # rewards get out in the shape all rewards env1 all rewards env2 all rewards env3 ..   (1,X) \n",
        "  \n",
        "    intrinsic_rewards.append(rewards.mean().numpy())\n",
        "    if EXTRINSIC_REWARD == True:\n",
        "      rewards += torch.stack(rewards_batch, dim=1).reshape(-1).unsqueeze(1)\n",
        "\n",
        "    rewards_batch = rewards.reshape(n_cpu, max_steps) # reshapes into environment format  (num_env,X)\n",
        "    curiosity_loss = (1 - BETA) * inverse_pred_err + (BETA * forward_pred_err)\n",
        "\n",
        "    # calculate advantage:\n",
        "    next_value = agent.critic(torch.from_numpy(next_states).unsqueeze(0).float())#.item()\n",
        "    discounted_rewards, advantage = agent.compute_gae(next_value, rewards_batch, masks, value_batch)\n",
        "\n",
        "    # normalize advantage:\n",
        "    advantage = (advantage - advantage.mean()) / (advantage.std() + 1e-5)\n",
        "    \n",
        "    c_loss, a_loss, icm_loss = agent.ppo_update(states=state_batch, actions=actions_batch, log_probs=logprob_batch, advantage=advantage, discounted_rewards=discounted_rewards, curiosity_loss=curiosity_loss)\n",
        "    c_loss_list.append(c_loss)\n",
        "    a_loss_list.append(a_loss)\n",
        "    icm_loss_list.append(icm_loss)\n",
        "    \n",
        "    \n",
        "    if ep != 0 and ep % 25 == 0:\n",
        "      test_rewards, test_entropy, test_steps = agent.test_net()\n",
        "      entropy_list.append(test_entropy)\n",
        "      plot_rewards.append(test_rewards)\n",
        "\n",
        "      average_100.append(np.mean(plot_rewards[-100:]))\n",
        "      print(\"\\rEpisode: {} | Ep_Reward: {:.2f} | Average_100: {:.2f}\".format(ep, test_rewards, np.mean(plot_rewards[-100:])), end = \"\", flush = True)\n",
        "        \n",
        "        \n",
        "\n",
        "    \n",
        "\n",
        "# PLOTTING RESULTS\n",
        "\n",
        "plt.figure(figsize = (26,8))\n",
        "plt.subplot(1,7,1)\n",
        "plt.title(\"actor loss\")\n",
        "plt.plot(a_loss_list)\n",
        "plt.subplot(1,7,2)\n",
        "plt.title(\"critic loss\")\n",
        "plt.plot(c_loss_list)\n",
        "plt.subplot(1,7,3)\n",
        "plt.title(\"ICM loss\")\n",
        "plt.plot(icm_loss_list)\n",
        "plt.subplot(1,7,4)\n",
        "plt.title(\"entropy\")\n",
        "plt.plot(entropy_list)\n",
        "plt.subplot(1,7,5)\n",
        "plt.title(\"rewards\")\n",
        "plt.plot(plot_rewards)\n",
        "plt.subplot(1,7,6)\n",
        "plt.title(\"intrinsic rewards\")\n",
        "plt.plot(intrinsic_rewards)\n",
        "plt.subplot(1,7,7)\n",
        "plt.title(\"Average100\")\n",
        "plt.plot(average_100)\n",
        "plt.show()"
      ],
      "execution_count": 5,
      "outputs": [
        {
          "output_type": "stream",
          "text": [
            "Using:  cpu\n"
          ],
          "name": "stdout"
        },
        {
          "output_type": "stream",
          "text": [
            "/usr/local/lib/python3.6/dist-packages/torch/nn/functional.py:1374: UserWarning: nn.functional.tanh is deprecated. Use torch.tanh instead.\n",
            "  warnings.warn(\"nn.functional.tanh is deprecated. Use torch.tanh instead.\")\n"
          ],
          "name": "stderr"
        },
        {
          "output_type": "stream",
          "text": [
            "Episode: 300 | Ep_Reward: 27.66 | Average_100: -21.28"
          ],
          "name": "stdout"
        },
        {
          "output_type": "display_data",
          "data": {
            "image/png": "[encoded data removed]",
            "text/plain": [
              "<Figure size 1872x576 with 7 Axes>"
            ]
          },
          "metadata": {
            "tags": []
          }
        }
      ]
    },
    {
      "cell_type": "code",
      "metadata": {
        "id": "jktbjKnMcWAA",
        "colab_type": "code",
        "colab": {
          "base_uri": "https://localhost:8080/",
          "height": 102
        },
        "outputId": "7b60d6ec-1572-43a1-bf02-05e3dbaebfaa"
      },
      "source": [
        "value_batch"
      ],
      "execution_count": 26,
      "outputs": [
        {
          "output_type": "execute_result",
          "data": {
            "text/plain": [
              "[tensor([[0.0974],\n",
              "         [0.1395],\n",
              "         [0.0766]], grad_fn=<AddmmBackward>), tensor([[0.0947],\n",
              "         [0.1397],\n",
              "         [0.0752]], grad_fn=<AddmmBackward>)]"
            ]
          },
          "metadata": {
            "tags": []
          },
          "execution_count": 26
        }
      ]
    },
    {
      "cell_type": "code",
      "metadata": {
        "id": "sHQOuzTo1DWa",
        "colab_type": "code",
        "colab": {
          "base_uri": "https://localhost:8080/",
          "height": 34
        },
        "outputId": "c9d500e0-e932-47af-d647-fc7987c59481"
      },
      "source": [
        "action_size"
      ],
      "execution_count": 8,
      "outputs": [
        {
          "output_type": "execute_result",
          "data": {
            "text/plain": [
              "2"
            ]
          },
          "metadata": {
            "tags": []
          },
          "execution_count": 8
        }
      ]
    },
    {
      "cell_type": "code",
      "metadata": {
        "id": "Js-6uEsqkMam",
        "colab_type": "code",
        "colab": {
          "base_uri": "https://localhost:8080/",
          "height": 68
        },
        "outputId": "fb3fbe00-8577-43aa-ba5a-00fa959ff6d6"
      },
      "source": [
        "next_values"
      ],
      "execution_count": 80,
      "outputs": [
        {
          "output_type": "execute_result",
          "data": {
            "text/plain": [
              "tensor([[[0.1461],\n",
              "         [0.1344],\n",
              "         [0.1120]]], grad_fn=<AddBackward0>)"
            ]
          },
          "metadata": {
            "tags": []
          },
          "execution_count": 80
        }
      ]
    },
    {
      "cell_type": "code",
      "metadata": {
        "id": "4S5fr5xOkQn3",
        "colab_type": "code",
        "colab": {
          "base_uri": "https://localhost:8080/",
          "height": 163
        },
        "outputId": "3f35c7fd-9fc8-42db-d9cc-87c54b59c222"
      },
      "source": [
        "torch.cat((torch.stack(value_batch, dim=1),next_values))"
      ],
      "execution_count": 69,
      "outputs": [
        {
          "output_type": "error",
          "ename": "RuntimeError",
          "evalue": "ignored",
          "traceback": [
            "\u001b[0;31m---------------------------------------------------------------------------\u001b[0m",
            "\u001b[0;31mRuntimeError\u001b[0m                              Traceback (most recent call last)",
            "\u001b[0;32m<ipython-input-69-52f79fb0b960>\u001b[0m in \u001b[0;36m<module>\u001b[0;34m()\u001b[0m\n\u001b[0;32m----> 1\u001b[0;31m \u001b[0mtorch\u001b[0m\u001b[0;34m.\u001b[0m\u001b[0mcat\u001b[0m\u001b[0;34m(\u001b[0m\u001b[0;34m(\u001b[0m\u001b[0mtorch\u001b[0m\u001b[0;34m.\u001b[0m\u001b[0mstack\u001b[0m\u001b[0;34m(\u001b[0m\u001b[0mvalue_batch\u001b[0m\u001b[0;34m,\u001b[0m \u001b[0mdim\u001b[0m\u001b[0;34m=\u001b[0m\u001b[0;36m1\u001b[0m\u001b[0;34m)\u001b[0m\u001b[0;34m,\u001b[0m\u001b[0mnext_values\u001b[0m\u001b[0;34m)\u001b[0m\u001b[0;34m)\u001b[0m\u001b[0;34m\u001b[0m\u001b[0;34m\u001b[0m\u001b[0m\n\u001b[0m",
            "\u001b[0;31mRuntimeError\u001b[0m: invalid argument 0: Sizes of tensors must match except in dimension 0. Got 2 and 3 in dimension 1 at /pytorch/aten/src/TH/generic/THTensor.cpp:711"
          ]
        }
      ]
    },
    {
      "cell_type": "code",
      "metadata": {
        "id": "m2ZVjMUWzYxe",
        "colab_type": "code",
        "colab": {
          "base_uri": "https://localhost:8080/",
          "height": 68
        },
        "outputId": "0a5a1fa9-5bd2-42be-d4cc-a1d0aa18b749"
      },
      "source": [
        "torch.cat((torch.stack(value_batch, dim=1).squeeze(2), next_values.squeeze(0)),dim=1)"
      ],
      "execution_count": 78,
      "outputs": [
        {
          "output_type": "execute_result",
          "data": {
            "text/plain": [
              "tensor([[0.1452, 0.1460, 0.1461],\n",
              "        [0.1358, 0.1337, 0.1344],\n",
              "        [0.1136, 0.1131, 0.1120]], grad_fn=<CatBackward>)"
            ]
          },
          "metadata": {
            "tags": []
          },
          "execution_count": 78
        }
      ]
    },
    {
      "cell_type": "code",
      "metadata": {
        "id": "TVgP8TtgzqBg",
        "colab_type": "code",
        "colab": {
          "base_uri": "https://localhost:8080/",
          "height": 68
        },
        "outputId": "67579cfb-c7a4-4820-e7ed-fffb79172e79"
      },
      "source": [
        "list(zip(*rewards_batch))"
      ],
      "execution_count": 85,
      "outputs": [
        {
          "output_type": "execute_result",
          "data": {
            "text/plain": [
              "[(-1.8561519361958574, 3.6333248840325156),\n",
              " (1.4210409069789238, 0.28636741209018735),\n",
              " (1.3552833391030732, 1.3479263853769237)]"
            ]
          },
          "metadata": {
            "tags": []
          },
          "execution_count": 85
        }
      ]
    },
    {
      "cell_type": "code",
      "metadata": {
        "id": "bX_l6a_IV2qM",
        "colab_type": "code",
        "colab": {
          "base_uri": "https://localhost:8080/",
          "height": 34
        },
        "outputId": "2582e20a-db1b-4105-adc0-16565d66abf7"
      },
      "source": [
        "rewards_batch"
      ],
      "execution_count": 97,
      "outputs": [
        {
          "output_type": "execute_result",
          "data": {
            "text/plain": [
              "[tensor([-1.5731, -2.0929, -0.3506]), tensor([ 0.8438, -0.7112,  0.0590])]"
            ]
          },
          "metadata": {
            "tags": []
          },
          "execution_count": 97
        }
      ]
    },
    {
      "cell_type": "code",
      "metadata": {
        "id": "2MdFTpIDW0xl",
        "colab_type": "code",
        "colab": {}
      },
      "source": [
        "rewards = torch.stack(rewards_batch, dim=1).reshape(-1).unsqueeze(1)"
      ],
      "execution_count": 0,
      "outputs": []
    },
    {
      "cell_type": "code",
      "metadata": {
        "id": "F4pkuX7skOM8",
        "colab_type": "code",
        "colab": {
          "base_uri": "https://localhost:8080/",
          "height": 68
        },
        "outputId": "9cab4cbb-f406-49b3-86d9-f1f67f219c4d"
      },
      "source": [
        "rewards.reshape(n_cpu, max_steps)"
      ],
      "execution_count": 103,
      "outputs": [
        {
          "output_type": "execute_result",
          "data": {
            "text/plain": [
              "tensor([[-1.5731,  0.8438],\n",
              "        [-2.0929, -0.7112],\n",
              "        [-0.3506,  0.0590]])"
            ]
          },
          "metadata": {
            "tags": []
          },
          "execution_count": 103
        }
      ]
    }
  ]
}