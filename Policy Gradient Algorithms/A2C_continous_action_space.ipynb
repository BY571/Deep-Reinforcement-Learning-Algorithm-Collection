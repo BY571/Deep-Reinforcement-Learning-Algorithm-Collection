{
  "nbformat": 4,
  "nbformat_minor": 0,
  "metadata": {
    "colab": {
      "name": "A2C_continous_action_space.ipynb",
      "version": "0.3.2",
      "provenance": [],
      "collapsed_sections": []
    },
    "kernelspec": {
      "name": "python3",
      "display_name": "Python 3"
    }
  },
  "cells": [
    {
      "metadata": {
        "id": "3py-uZmCS_oj",
        "colab_type": "code",
        "colab": {}
      },
      "cell_type": "code",
      "source": [
        "!pip install pybullet"
      ],
      "execution_count": 0,
      "outputs": []
    },
    {
      "metadata": {
        "id": "EDVb6chUPEI9",
        "colab_type": "code",
        "colab": {}
      },
      "cell_type": "code",
      "source": [
        "import gym\n",
        "import math\n",
        "import torch \n",
        "import torch.nn as nn\n",
        "import torch.optim as optim\n",
        "from torch.distributions import Categorical\n",
        "import torch.nn.functional as F\n",
        "import numpy as np\n",
        "import matplotlib.pyplot as plt\n",
        "import pybullet_envs"
      ],
      "execution_count": 0,
      "outputs": []
    },
    {
      "metadata": {
        "id": "8RY-GiR4P92l",
        "colab_type": "code",
        "colab": {
          "base_uri": "https://localhost:8080/",
          "height": 323
        },
        "outputId": "819713f5-1002-48c2-c0dc-792cc4b62e22"
      },
      "cell_type": "code",
      "source": [
        "ENV_ID = \"MinitaurBulletEnv-v0\"\n",
        "#RENDER = True\n",
        "spec = gym.envs.registry.spec(ENV_ID)\n",
        "#spec._kwargs[\"render\"] = RENDER\n",
        "\n",
        "num_envs = 8\n",
        "\n",
        "def make_env():\n",
        "    def _thunk():\n",
        "        env = gym.make(ENV_ID)\n",
        "        return env\n",
        "\n",
        "    return _thunk\n",
        "\n",
        "envs = [make_env() for i in range(num_envs)]\n",
        "envs = SubprocVecEnv(envs)\n",
        "env = gym.make(ENV_ID)"
      ],
      "execution_count": 82,
      "outputs": [
        {
          "output_type": "stream",
          "text": [
            "urdf_root=/usr/local/lib/python3.6/dist-packages/pybullet_data\n",
            "options= \n",
            "urdf_root=/usr/local/lib/python3.6/dist-packages/pybullet_data\n",
            "options= \n",
            "urdf_root=/usr/local/lib/python3.6/dist-packages/pybullet_data\n",
            "options= \n",
            "urdf_root=/usr/local/lib/python3.6/dist-packages/pybullet_data\n",
            "options= \n",
            "urdf_root=/usr/local/lib/python3.6/dist-packages/pybullet_data\n",
            "options= \n",
            "urdf_root=/usr/local/lib/python3.6/dist-packages/pybullet_data\n",
            "urdf_root=/usr/local/lib/python3.6/dist-packages/pybullet_data\n",
            "options= \n",
            "options= \n",
            "urdf_root=/usr/local/lib/python3.6/dist-packages/pybullet_data\n",
            "options= \n",
            "urdf_root=/usr/local/lib/python3.6/dist-packages/pybullet_data\n",
            "options= \n"
          ],
          "name": "stdout"
        }
      ]
    },
    {
      "metadata": {
        "id": "ErQDSASPPdRo",
        "colab_type": "code",
        "colab": {}
      },
      "cell_type": "code",
      "source": [
        "class A2C_Conti(nn.Module):\n",
        "  def __init__(self, input_shape, output_shape):\n",
        "    super(A2C_Conti, self).__init__()\n",
        "    \n",
        "    self.net = nn.Sequential(nn.Linear(input_shape, 256),\n",
        "                             nn.ReLU()\n",
        "                             )\n",
        "    self.critic = nn.Sequential(nn.Linear(256, 1))          # estimated Value of the state\n",
        "    self.mean = nn.Sequential(nn.Linear(256, output_shape),\n",
        "                              nn.Tanh())                    # tanh squashed output to the range of -1..1\n",
        "    self.variance =nn.Sequential(nn.Linear(256, output_shape),\n",
        "                                 nn.Softplus())             # log(1 + e^x) has the shape of a smoothed ReLU\n",
        "    \n",
        "  def forward(self,x):\n",
        "    x = self.net(x)\n",
        "    return self.mean(x), self.variance(x), self.critic(x)"
      ],
      "execution_count": 0,
      "outputs": []
    },
    {
      "metadata": {
        "id": "JaNgP22AVypI",
        "colab_type": "text"
      },
      "cell_type": "markdown",
      "source": [
        "since in continous action space we dont return a prob distribution based on the fact we have an infinit amount of action values to choose for each needed action parameter (common for motors in range of[-1,1]). Thats why we returning the parameters in a Gaussian distribution. For N actions, it will be two vectors size N. first is the mean values µ and the second vector contains the varians o²\n",
        "\n",
        "by the fact of the changed output our calculation of the logprob has chanced by the probability density function of Gaussian distribution (after some math and simplification) final expression for log(pi):\n",
        "\n",
        "log(pi) = - (x-µ)²/(2o²) - log(sqrt(2 pi o²))\n",
        "\n",
        "and the entropy definded by ln(sqrt(2 pi e o²))\n"
      ]
    },
    {
      "metadata": {
        "id": "F67No5fCcY4Z",
        "colab_type": "code",
        "colab": {}
      },
      "cell_type": "code",
      "source": [
        "GAMMA = 0.99\n",
        "ENTROPY_BETA = 0.001  \n",
        "CLIP_GRAD = 0.1"
      ],
      "execution_count": 0,
      "outputs": []
    },
    {
      "metadata": {
        "id": "Uz4LPfeRdCKD",
        "colab_type": "code",
        "colab": {}
      },
      "cell_type": "code",
      "source": [
        "def test_net(net, env, count = 10):\n",
        "  rewards = 0.0\n",
        "  steps = 0\n",
        "  for _ in range(count):\n",
        "    obs = env.reset()\n",
        "    while True:\n",
        "      obs_v = torch.FloatTensor(obs)\n",
        "      mean_v, var_v, v_ = net(obs_v)\n",
        "      action = calc_actions(mean_v, var_v)\n",
        "      obs, reward, done, info = env.step(action)\n",
        "      rewards += reward\n",
        "      steps += 1\n",
        "      if done:\n",
        "        break\n",
        "  return rewards/count, steps/count"
      ],
      "execution_count": 0,
      "outputs": []
    },
    {
      "metadata": {
        "id": "EgB6wcAknSEv",
        "colab_type": "code",
        "colab": {}
      },
      "cell_type": "code",
      "source": [
        "def calc_actions(mean, variance):\n",
        "  mean = mean.data.numpy()\n",
        "  sigma = torch.sqrt(variance).data.numpy()\n",
        "  actions = np.random.normal(mean, sigma)\n",
        "  actions = np.clip(actions, -1, 1)\n",
        "  return actions"
      ],
      "execution_count": 0,
      "outputs": []
    },
    {
      "metadata": {
        "id": "odFPhvabPdOO",
        "colab_type": "code",
        "colab": {}
      },
      "cell_type": "code",
      "source": [
        "def compute_returns(terminal_reward, rewards,masks, gamma=GAMMA):\n",
        "    R = terminal_reward\n",
        "    returns = []\n",
        "    for step in reversed(range(len(rewards))):\n",
        "        R = rewards[step] + gamma * R * masks[step]\n",
        "        returns.insert(0, R)\n",
        "    return returns"
      ],
      "execution_count": 0,
      "outputs": []
    },
    {
      "metadata": {
        "id": "pFyplbTNPdLJ",
        "colab_type": "code",
        "colab": {}
      },
      "cell_type": "code",
      "source": [
        "def run_optimization(next_state, model,action_batch, mean_batch, variance_batch, values_batch, rewards_batch, masks):\n",
        "    next_state = torch.FloatTensor(next_state)\n",
        "    m_, v_, next_value = model(next_state)\n",
        "    \n",
        "    \n",
        "    discounted_rewards = torch.cat(compute_returns(next_value, rewards_batch, masks)).detach()\n",
        "    #print(discounted_rewards.shape)\n",
        "    \n",
        "    action_v    = torch.cat(action_batch)     # shape [n_steps * nr_envs, 8]\n",
        "    mean_v      = torch.cat(mean_batch)       # shape [n_steps * nr_envs, 8]  8 output_values\n",
        "    variance_v  = torch.cat(variance_batch)   # shape [n_steps * nr_envs, 8]\n",
        "    values_v    = torch.cat(values_batch)     # shape [n_steps * nr_envs, 1]  only one value of the critic\n",
        "    \n",
        "    \n",
        "    # A(s,a) = Q(s,a)- V(s)\n",
        "    advantage = discounted_rewards - values_v.detach() \n",
        "    \n",
        "    # calc log(pi):\n",
        "    # torch.clamp to prevent division on zero if variance is to small \n",
        "    log_pi = -((action_v - mean_v)**2)/(2 * variance_v.clamp(min = 1e-3)) - torch.log(torch.sqrt(2* math.pi * variance_v))\n",
        "    \n",
        "    # policy_loss\n",
        "    policy_loss  = -(log_pi * advantage).mean() \n",
        "\n",
        "    \n",
        "    value_loss = F.mse_loss(values_v, discounted_rewards) \n",
        "    #value_loss = advantage.pow(2).mean()   # same as above\n",
        "    \n",
        "    # calculate entropy\n",
        "    #entropy = - torch.log10(torch.sqrt(2*math.pi*math.e*variance_v)).mean()  # directly as in the book\n",
        "    entropy = (-(torch.log(2*math.pi*variance_v)+1)/2).mean()\n",
        "    \n",
        "    actor_loss_list.append(policy_loss)\n",
        "    value_loss_list.append(value_loss)\n",
        "    entropy_list.append(entropy)\n",
        "    \n",
        "    loss =  policy_loss + value_loss + ENTROPY_BETA * entropy\n",
        "    \n",
        "    optimizer.zero_grad()\n",
        "    loss.backward()\n",
        "    #clip_grad_norm_(model.parameters(),CLIP_GRAD)\n",
        "    optimizer.step()"
      ],
      "execution_count": 0,
      "outputs": []
    },
    {
      "metadata": {
        "id": "pVhT8JJ4cORS",
        "colab_type": "code",
        "colab": {
          "base_uri": "https://localhost:8080/",
          "height": 460
        },
        "outputId": "186eef76-9ce1-41bc-b5fb-d1e1f88f9c0b"
      },
      "cell_type": "code",
      "source": [
        "\n",
        "\n",
        "input_shape  = envs.observation_space.shape[0]\n",
        "output_shape = envs.action_space.shape[0]\n",
        "#print(input_shape)\n",
        "#print(output_shape)\n",
        "model = A2C_Conti(input_shape, output_shape)\n",
        "optimizer = optim.Adam(params = model.parameters(),lr = 0.002)\n",
        "\n",
        "max_frames   = 15000\n",
        "frame_idx    = 0\n",
        "\n",
        "actor_loss_list = []\n",
        "value_loss_list = []\n",
        "entropy_list = []\n",
        "\n",
        "plot_rewards = []\n",
        "step_distance = []\n",
        "steps = 0\n",
        "n_steps = 5\n",
        "\n",
        "state = envs.reset()\n",
        "\n",
        "while frame_idx < max_frames:\n",
        "    \n",
        "    action_batch = []\n",
        "    mean_batch = []\n",
        "    variance_batch = []\n",
        "    values_batch    = []\n",
        "    rewards_batch   = []\n",
        "    masks     = []\n",
        "    entropy = 0\n",
        "\n",
        "\n",
        "    for _ in range(n_steps):\n",
        "        state = torch.FloatTensor(state)\n",
        "        mean, variance, value = model(state)\n",
        "        #print(mean.shape)\n",
        "        #print(variance.shape)\n",
        "        #print(mean.data.numpy)\n",
        "        \n",
        "        action = calc_actions(mean, variance) \n",
        "        next_state, reward, done, _ = envs.step(action)\n",
        "        \n",
        "        action_batch.append(torch.FloatTensor(action))                # [nr_of_envs, 8]\n",
        "        mean_batch.append(mean)                                       # [nr_of_envs, 8]\n",
        "        variance_batch.append(variance)                               # [nr_of_envs, 8]\n",
        "        values_batch.append(value)                                    # [nr_of_envs, 8]\n",
        "        rewards_batch.append(torch.FloatTensor(reward).unsqueeze(1))  # appends vector in shape [nr_of_envs, 1]\n",
        "        masks.append(torch.FloatTensor(1 - done).unsqueeze(1))        # appends vector in shape [nr_of_envs, 1]\n",
        "        \n",
        "        #break  # for debugging\n",
        "        \n",
        "        state = next_state\n",
        "        frame_idx += 1\n",
        "          \n",
        "        if frame_idx % 500 == 0:\n",
        "            test_rewards, test_steps = test_net(model, env)\n",
        "            step_distance.append(test_steps)\n",
        "            plot_rewards.append(test_rewards)\n",
        "    #break\n",
        "    run_optimization(next_state, model,action_batch, mean_batch, variance_batch, values_batch, rewards_batch ,masks)\n",
        "    #break\n",
        "    \n",
        "    \n",
        "    \n",
        "\n",
        "# PLOTTING RESULTS\n",
        "\n",
        "plt.figure(figsize = (20,7))\n",
        "plt.subplot(1,5,1)\n",
        "plt.title(\"policy_loss\")\n",
        "plt.plot(actor_loss_list)\n",
        "plt.subplot(1,5,2)\n",
        "plt.title(\"value_loss\")\n",
        "plt.plot(value_loss_list)\n",
        "plt.subplot(1,5,3)\n",
        "plt.title(\"entropy\")\n",
        "plt.plot(entropy_list)\n",
        "plt.subplot(1,5,4)\n",
        "plt.title(\"rewards\")\n",
        "plt.plot(plot_rewards)\n",
        "plt.subplot(1,5,5)\n",
        "plt.title(\"steps\")\n",
        "plt.plot(step_distance)"
      ],
      "execution_count": 88,
      "outputs": [
        {
          "output_type": "execute_result",
          "data": {
            "text/plain": [
              "[<matplotlib.lines.Line2D at 0x7fb1289ba7b8>]"
            ]
          },
          "metadata": {
            "tags": []
          },
          "execution_count": 88
        },
        {
          "output_type": "display_data",
          "data": {
            "image/png": "[encoded data removed]",
            "text/plain": [
              "<Figure size 1440x504 with 5 Axes>"
            ]
          },
          "metadata": {
            "tags": []
          }
        }
      ]
    },
    {
      "metadata": {
        "id": "VraRgJMYcONo",
        "colab_type": "code",
        "colab": {}
      },
      "cell_type": "code",
      "source": [
        ""
      ],
      "execution_count": 0,
      "outputs": []
    },
    {
      "metadata": {
        "id": "Hkhm1__rcImm",
        "colab_type": "text"
      },
      "cell_type": "markdown",
      "source": [
        "**For multiprocessing**"
      ]
    },
    {
      "metadata": {
        "id": "GRv8aDSCPdHb",
        "colab_type": "code",
        "colab": {}
      },
      "cell_type": "code",
      "source": [
        "from multiprocessing import Process, Pipe\n",
        "\n",
        "def worker(remote, parent_remote, env_fn_wrapper):\n",
        "    parent_remote.close()\n",
        "    env = env_fn_wrapper.x()\n",
        "    while True:\n",
        "        cmd, data = remote.recv()\n",
        "        if cmd == 'step':\n",
        "            ob, reward, done, info = env.step(data)\n",
        "            if done:\n",
        "                ob = env.reset()\n",
        "            remote.send((ob, reward, done, info))\n",
        "        elif cmd == 'reset':\n",
        "            ob = env.reset()\n",
        "            remote.send(ob)\n",
        "        elif cmd == 'reset_task':\n",
        "            ob = env.reset_task()\n",
        "            remote.send(ob)\n",
        "        elif cmd == 'close':\n",
        "            remote.close()\n",
        "            break\n",
        "        elif cmd == 'get_spaces':\n",
        "            remote.send((env.observation_space, env.action_space))\n",
        "        else:\n",
        "            raise NotImplementedError\n",
        "\n",
        "class CloudpickleWrapper(object):\n",
        "    \"\"\"\n",
        "    Uses cloudpickle to serialize contents (otherwise multiprocessing tries to use pickle)\n",
        "    \"\"\"\n",
        "    def __init__(self, x):\n",
        "        self.x = x\n",
        "    def __getstate__(self):\n",
        "        import cloudpickle\n",
        "        return cloudpickle.dumps(self.x)\n",
        "    def __setstate__(self, ob):\n",
        "        import pickle\n",
        "        self.x = pickle.loads(ob)\n",
        "        \n",
        "\n",
        "class VecEnv(object):\n",
        "    \"\"\"\n",
        "    An abstract asynchronous, vectorized environment.\n",
        "    \"\"\"\n",
        "    def __init__(self, num_envs, observation_space, action_space):\n",
        "        self.num_envs = num_envs\n",
        "        self.observation_space = observation_space\n",
        "        self.action_space = action_space\n",
        "\n",
        "    def reset(self):\n",
        "        \"\"\"\n",
        "        Reset all the environments and return an array of\n",
        "        observations, or a tuple of observation arrays.\n",
        "        If step_async is still doing work, that work will\n",
        "        be cancelled and step_wait() should not be called\n",
        "        until step_async() is invoked again.\n",
        "        \"\"\"\n",
        "        pass\n",
        "\n",
        "    def step_async(self, actions):\n",
        "        \"\"\"\n",
        "        Tell all the environments to start taking a step\n",
        "        with the given actions.\n",
        "        Call step_wait() to get the results of the step.\n",
        "        You should not call this if a step_async run is\n",
        "        already pending.\n",
        "        \"\"\"\n",
        "        pass\n",
        "\n",
        "    def step_wait(self):\n",
        "        \"\"\"\n",
        "        Wait for the step taken with step_async().\n",
        "        Returns (obs, rews, dones, infos):\n",
        "         - obs: an array of observations, or a tuple of\n",
        "                arrays of observations.\n",
        "         - rews: an array of rewards\n",
        "         - dones: an array of \"episode done\" booleans\n",
        "         - infos: a sequence of info objects\n",
        "        \"\"\"\n",
        "        pass\n",
        "\n",
        "    def close(self):\n",
        "        \"\"\"\n",
        "        Clean up the environments' resources.\n",
        "        \"\"\"\n",
        "        pass\n",
        "\n",
        "    def step(self, actions):\n",
        "        self.step_async(actions)\n",
        "        return self.step_wait()\n",
        "\n",
        "class SubprocVecEnv(VecEnv):\n",
        "    def __init__(self, env_fns, spaces=None):\n",
        "        \"\"\"\n",
        "        envs: list of gym environments to run in subprocesses\n",
        "        \"\"\"\n",
        "        self.waiting = False\n",
        "        self.closed = False\n",
        "        nenvs = len(env_fns)\n",
        "        self.nenvs = nenvs\n",
        "        self.remotes, self.work_remotes = zip(*[Pipe() for _ in range(nenvs)])\n",
        "        self.ps = [Process(target=worker, args=(work_remote, remote, CloudpickleWrapper(env_fn)))\n",
        "            for (work_remote, remote, env_fn) in zip(self.work_remotes, self.remotes, env_fns)]\n",
        "        for p in self.ps:\n",
        "            p.daemon = True # if the main process crashes, we should not cause things to hang\n",
        "            p.start()\n",
        "        for remote in self.work_remotes:\n",
        "            remote.close()\n",
        "\n",
        "        self.remotes[0].send(('get_spaces', None))\n",
        "        observation_space, action_space = self.remotes[0].recv()\n",
        "        VecEnv.__init__(self, len(env_fns), observation_space, action_space)\n",
        "\n",
        "    def step_async(self, actions):\n",
        "        for remote, action in zip(self.remotes, actions):\n",
        "            remote.send(('step', action))\n",
        "        self.waiting = True\n",
        "\n",
        "    def step_wait(self):\n",
        "        results = [remote.recv() for remote in self.remotes]\n",
        "        self.waiting = False\n",
        "        obs, rews, dones, infos = zip(*results)\n",
        "        return np.stack(obs), np.stack(rews), np.stack(dones), infos\n",
        "\n",
        "    def reset(self):\n",
        "        for remote in self.remotes:\n",
        "            remote.send(('reset', None))\n",
        "        return np.stack([remote.recv() for remote in self.remotes])\n",
        "\n",
        "    def reset_task(self):\n",
        "        for remote in self.remotes:\n",
        "            remote.send(('reset_task', None))\n",
        "        return np.stack([remote.recv() for remote in self.remotes])\n",
        "\n",
        "    def close(self):\n",
        "        if self.closed:\n",
        "            return\n",
        "        if self.waiting:\n",
        "            for remote in self.remotes:            \n",
        "                remote.recv()\n",
        "        for remote in self.remotes:\n",
        "            remote.send(('close', None))\n",
        "        for p in self.ps:\n",
        "            p.join()\n",
        "            self.closed = True\n",
        "            \n",
        "    def __len__(self):\n",
        "        return self.nenvs"
      ],
      "execution_count": 0,
      "outputs": []
    }
  ]
}