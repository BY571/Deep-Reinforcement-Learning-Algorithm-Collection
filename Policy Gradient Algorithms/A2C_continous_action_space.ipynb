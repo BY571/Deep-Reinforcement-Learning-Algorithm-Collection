{
  "nbformat": 4,
  "nbformat_minor": 0,
  "metadata": {
    "colab": {
      "name": "A2C_continous_action_space.ipynb",
      "version": "0.3.2",
      "provenance": [],
      "collapsed_sections": []
    },
    "kernelspec": {
      "name": "python3",
      "display_name": "Python 3"
    },
    "accelerator": "GPU"
  },
  "cells": [
    {
      "cell_type": "code",
      "metadata": {
        "id": "EDVb6chUPEI9",
        "colab_type": "code",
        "outputId": "cd0bfa4e-90b3-4c4c-8930-c8f3ab72e722",
        "colab": {
          "base_uri": "https://localhost:8080/",
          "height": 238
        }
      },
      "source": [
        "import gym\n",
        "import math\n",
        "import torch \n",
        "import torch.nn as nn\n",
        "import torch.optim as optim\n",
        "from torch.distributions import Normal\n",
        "import torch.nn.functional as F\n",
        "import numpy as np\n",
        "import matplotlib.pyplot as plt\n",
        "from torch.nn.utils import clip_grad_norm_\n",
        "from collections import deque\n",
        "#import pybullet_envs\n",
        "!pip install box2d-py\n",
        "!pip install gym[Box_2D]\n"
      ],
      "execution_count": 0,
      "outputs": [
        {
          "output_type": "stream",
          "text": [
            "Requirement already satisfied: box2d-py in /usr/local/lib/python3.6/dist-packages (2.3.8)\n",
            "Requirement already satisfied: gym[Box_2D] in /usr/local/lib/python3.6/dist-packages (0.10.11)\n",
            "\u001b[33m  WARNING: gym 0.10.11 does not provide the extra 'box_2d'\u001b[0m\n",
            "Requirement already satisfied: numpy>=1.10.4 in /usr/local/lib/python3.6/dist-packages (from gym[Box_2D]) (1.16.4)\n",
            "Requirement already satisfied: pyglet>=1.2.0 in /usr/local/lib/python3.6/dist-packages (from gym[Box_2D]) (1.4.1)\n",
            "Requirement already satisfied: requests>=2.0 in /usr/local/lib/python3.6/dist-packages (from gym[Box_2D]) (2.21.0)\n",
            "Requirement already satisfied: six in /usr/local/lib/python3.6/dist-packages (from gym[Box_2D]) (1.12.0)\n",
            "Requirement already satisfied: scipy in /usr/local/lib/python3.6/dist-packages (from gym[Box_2D]) (1.3.0)\n",
            "Requirement already satisfied: future in /usr/local/lib/python3.6/dist-packages (from pyglet>=1.2.0->gym[Box_2D]) (0.16.0)\n",
            "Requirement already satisfied: certifi>=2017.4.17 in /usr/local/lib/python3.6/dist-packages (from requests>=2.0->gym[Box_2D]) (2019.6.16)\n",
            "Requirement already satisfied: urllib3<1.25,>=1.21.1 in /usr/local/lib/python3.6/dist-packages (from requests>=2.0->gym[Box_2D]) (1.24.3)\n",
            "Requirement already satisfied: idna<2.9,>=2.5 in /usr/local/lib/python3.6/dist-packages (from requests>=2.0->gym[Box_2D]) (2.8)\n",
            "Requirement already satisfied: chardet<3.1.0,>=3.0.2 in /usr/local/lib/python3.6/dist-packages (from requests>=2.0->gym[Box_2D]) (3.0.4)\n"
          ],
          "name": "stdout"
        }
      ]
    },
    {
      "cell_type": "code",
      "metadata": {
        "id": "8RY-GiR4P92l",
        "colab_type": "code",
        "outputId": "cee5c6e2-caf7-4f8d-c1dd-d5fc744135e2",
        "colab": {
          "base_uri": "https://localhost:8080/",
          "height": 68
        }
      },
      "source": [
        "env_name = \"MountainCarContinuous-v0\" #\"MountainCarContinuous-v0\"  #Pendulum-v0 LunarLanderContinuous-v2\n",
        "env = gym.make(env_name)\n",
        "\n",
        "\n",
        "print(\"action space: \", env.action_space.shape[0])\n",
        "print(\"observation space \", env.env.observation_space.shape[0])\n",
        "device = \"cuda\" if torch.cuda.is_available() else \"cpu\"\n",
        "print(\"Using: \", device)"
      ],
      "execution_count": 105,
      "outputs": [
        {
          "output_type": "stream",
          "text": [
            "action space:  1\n",
            "observation space  2\n",
            "Using:  cuda\n"
          ],
          "name": "stdout"
        }
      ]
    },
    {
      "cell_type": "code",
      "metadata": {
        "id": "ErQDSASPPdRo",
        "colab_type": "code",
        "colab": {}
      },
      "source": [
        "class A2C_Conti(nn.Module):\n",
        "    def __init__(self, input_shape, output_shape):\n",
        "        super(A2C_Conti, self).__init__()\n",
        "        self.net = nn.Sequential(nn.Linear(input_shape, HIDDEN_SIZE),\n",
        "                                 #nn.BatchNorm1d(HIDDEN_SIZE),\n",
        "                                 nn.ReLU(),\n",
        "                                 nn.Linear(HIDDEN_SIZE,HIDDEN_SIZE),\n",
        "                                 nn.ReLU(),\n",
        "                                 nn.Linear(HIDDEN_SIZE,HIDDEN_SIZE),\n",
        "                                 nn.ReLU()\n",
        "                                 )\n",
        "        self.critic = nn.Sequential(nn.Linear(HIDDEN_SIZE, 1))          # estimated Value of the state\n",
        "        self.mean = nn.Sequential(nn.Linear(HIDDEN_SIZE, output_shape),\n",
        "                                  nn.Tanh())                    # tanh squashed output to the range of -1..1\n",
        "        self.variance =nn.Sequential(nn.Linear(HIDDEN_SIZE, output_shape),\n",
        "                                     nn.Softplus())             # log(1 + e^x) has the shape of a smoothed ReLU\n",
        "    \n",
        "    def forward(self,x):\n",
        "        x = self.net(x)\n",
        "        return self.mean(x), self.variance(x), self.critic(x)"
      ],
      "execution_count": 0,
      "outputs": []
    },
    {
      "cell_type": "markdown",
      "metadata": {
        "id": "JaNgP22AVypI",
        "colab_type": "text"
      },
      "source": [
        "since in continous action space we dont return a prob distribution based on the fact we have an infinit amount of action values to choose for each needed action parameter (common for motors in range of[-1,1]). Thats why we returning the parameters in a Gaussian distribution. For N actions, it will be two vectors size N. first is the mean values µ and the second vector contains the varians o²\n",
        "\n",
        "by the fact of the changed output our calculation of the logprob has chanced by the probability density function of Gaussian distribution (after some math and simplification) final expression for log(pi):\n",
        "\n",
        "log(pi) = - (x-µ)²/(2o²) - log(sqrt(2 pi o²))\n",
        "\n",
        "and the entropy definded by ln(sqrt(2 pi e o²))\n"
      ]
    },
    {
      "cell_type": "code",
      "metadata": {
        "id": "F67No5fCcY4Z",
        "colab_type": "code",
        "colab": {}
      },
      "source": [
        "def test_net(net, env, count = 10):\n",
        "    rewards = 0.0\n",
        "    steps = 0\n",
        "    entropys = 0.0\n",
        "    for _ in range(count):\n",
        "        obs = env.reset()\n",
        "\n",
        "        while True:\n",
        "            obs_v = torch.from_numpy(obs).unsqueeze(0).float()\n",
        "            mean_v, var_v, v_ = net(obs_v.to(device))\n",
        "            action, _, entropy = sample(mean_v[0].cpu(), var_v[0].cpu())\n",
        "            obs, reward, done, info = env.step(action.numpy())\n",
        "            \n",
        "            rewards += reward\n",
        "            entropys += np.mean(entropy.detach().numpy())\n",
        "            steps += 1\n",
        "            if done:\n",
        "                break\n",
        "\n",
        "    return rewards/count, entropys/count, steps/count\n",
        "  \n",
        "# def calc_actions(mean, variance):\n",
        "  \n",
        "#     sigma = torch.sqrt(variance)\n",
        "#     m = Normal(mean, sigma)\n",
        "#     actions = m.sample()\n",
        "#     actions = torch.clamp(actions, -1, 1) # usually clipping between -1,1 but pendulum env has action range of -2,2\n",
        "#     return actions\n",
        "\n",
        "# def calc_logprob(mu_v, var_v, actions_v):\n",
        "#     # calc log(pi):\n",
        "#     # torch.clamp to prevent division on zero if variance is to small \n",
        "#     p1 = - ((actions_v - mu_v) ** 2) / (2*var_v.clamp(min=1e-3))\n",
        "#     p2 = - torch.log(torch.sqrt(2 * math.pi * var_v))\n",
        "#     return p1 + p2\n",
        "  \n",
        "  \n",
        "def compute_returns(rewards,masks, pred, gamma=GAMMA):\n",
        "    R = 0 #pred.detach()\n",
        "    returns = []\n",
        "    for step in reversed(range(len(rewards))):\n",
        "        R = rewards[step] + gamma * R * masks[step]\n",
        "        returns.insert(0, R)\n",
        "    return torch.FloatTensor(returns).reshape(-1).unsqueeze(1)\n",
        "\n",
        "def sample(mean, variance):\n",
        "  \"\"\"\n",
        "  Calculates the actions, log probs and entropy based on a normal distribution by a given mean and variance.\n",
        "  \n",
        "  ====================================================\n",
        "  \n",
        "  calculate log prob:\n",
        "  log_prob = -((action - mean) ** 2) / (2 * var) - log(sigma) - log(sqrt(2 *pi))\n",
        "  \n",
        "  calculate entropy:\n",
        "  entropy =  0.5 + 0.5 * log(2 *pi * sigma) \n",
        "  entropy here relates directly to the unpredictability of the actions which an agent takes in a given policy.\n",
        "  The greater the entropy, the more random the actions an agent takes.\n",
        "  \n",
        "  \"\"\"\n",
        "  sigma = torch.sqrt(variance)\n",
        "  m = Normal(mean, sigma)\n",
        "  actions = m.sample()\n",
        "  actions = torch.clamp(actions, -1, 1) # usually clipping between -1,1 but pendulum env has action range of -2,2\n",
        "  logprobs = m.log_prob(actions)\n",
        "  entropy = m.entropy()  # Equation: 0.5 + 0.5 * log(2 *pi * sigma)\n",
        "    \n",
        "  return actions, logprobs, entropy\n",
        "\n",
        "\n",
        "def run_optimization(logprob_batch, entropy_batch, values_batch, value, rewards_batch, masks):\n",
        "    \"\"\"\n",
        "    Calculates the actor loss and the critic loss and backpropagates it through the Network\n",
        "    \n",
        "    ============================================\n",
        "    Critic loss:\n",
        "    c_loss = -logprob * advantage\n",
        "    \n",
        "    a_loss = \n",
        "    \n",
        "    \"\"\"\n",
        "    \n",
        "    log_prob_v = torch.cat(logprob_batch).to(device)\n",
        "    entropy_v = torch.cat(entropy_batch).to(device)\n",
        "    value_v = torch.cat(values_batch).to(device)\n",
        "    \n",
        "    optimizer.zero_grad()\n",
        "\n",
        "    rewards_batch = torch.FloatTensor(rewards_batch)\n",
        "    masks = torch.FloatTensor(masks)\n",
        "    discounted_rewards = compute_returns(rewards_batch, masks, value).to(device)\n",
        "    \n",
        "    # critic_loss \n",
        "    critic_loss = F.mse_loss(value_v, discounted_rewards)\n",
        "\n",
        "    # A(s,a) = Q(s,a) - V(s)\n",
        "    advantage = discounted_rewards - value_v.detach() \n",
        "\n",
        "    #actor_loss\n",
        "    actor_loss = (-log_prob_v * advantage).mean()\n",
        "      \n",
        "    loss =  actor_loss + 0.5 * critic_loss + ENTROPY_BETA * entropy.detach().mean()\n",
        "\n",
        "    loss.backward()\n",
        "    clip_grad_norm_(model.parameters(),CLIP_GRAD)\n",
        "    optimizer.step()\n",
        "    return actor_loss, critic_loss"
      ],
      "execution_count": 0,
      "outputs": []
    },
    {
      "cell_type": "code",
      "metadata": {
        "id": "38C0_vqhFwVH",
        "colab_type": "code",
        "colab": {}
      },
      "source": [
        "GAMMA = 0.9\n",
        "ENTROPY_BETA = 0.001  \n",
        "CLIP_GRAD = .1\n",
        "LR = 1e-3\n",
        "HIDDEN_SIZE = 128"
      ],
      "execution_count": 0,
      "outputs": []
    },
    {
      "cell_type": "code",
      "metadata": {
        "id": "pVhT8JJ4cORS",
        "colab_type": "code",
        "outputId": "7d09ebd2-dd01-4e29-e480-3dd954e4849b",
        "colab": {
          "base_uri": "https://localhost:8080/",
          "height": 461
        }
      },
      "source": [
        "\n",
        "\n",
        "torch.manual_seed(42)\n",
        "torch.cuda.manual_seed(42)\n",
        "np.random.seed(42)\n",
        "env.seed(42)\n",
        "\n",
        "input_shape  = env.observation_space.shape[0]\n",
        "output_shape = env.action_space.shape[0]\n",
        "\n",
        "model = A2C_Conti(input_shape, output_shape).to(device)\n",
        "optimizer = optim.RMSprop(params = model.parameters(),lr = LR)\n",
        "\n",
        "max_episodes = 500\n",
        "\n",
        "actor_loss_list = []\n",
        "critic_loss_list = []\n",
        "entropy_list = []\n",
        "\n",
        "\n",
        "average_100 = []\n",
        "plot_rewards = []\n",
        "steps = 0\n",
        "max_steps = 200\n",
        "\n",
        "for ep in range(max_episodes):\n",
        "    state = env.reset()\n",
        "    done = False\n",
        "\n",
        "    logprob_batch = []\n",
        "    entropy_batch = []\n",
        "    values_batch = []\n",
        "    rewards_batch = []\n",
        "    masks = []\n",
        "    for step in range(max_steps):\n",
        "\n",
        "        state = torch.from_numpy(state).float()\n",
        "        mean, variance, value = model(state.unsqueeze(0).to(device))   \n",
        "        action, logprob, entropy = sample(mean.cpu(), variance.cpu())\n",
        "        next_state, reward, done, _ = env.step(action[0].numpy())\n",
        "\n",
        "        logprob_batch.append(logprob)\n",
        "        entropy_batch.append(entropy)\n",
        "        values_batch.append(value)\n",
        "        rewards_batch.append(reward)  \n",
        "        masks.append(1 - done)\n",
        "\n",
        "        state = next_state\n",
        "\n",
        "        if done:\n",
        "          break\n",
        "    #_, _, value = model(torch.from_numpy(next_state).to(device))\n",
        "    value =0\n",
        "    actor_loss, critic_loss = run_optimization(logprob_batch, entropy_batch, values_batch, value, rewards_batch, masks)\n",
        "    \n",
        "    actor_loss_list.append(actor_loss)\n",
        "    critic_loss_list.append(critic_loss)\n",
        "    \n",
        "    if ep != 0 and ep % 10 == 0:\n",
        "      test_rewards, test_entropy, test_steps = test_net(model, env)\n",
        "      entropy_list.append(test_entropy)\n",
        "      plot_rewards.append(test_rewards)\n",
        "\n",
        "      average_100.append(np.mean(plot_rewards[-100:]))\n",
        "      print(\"\\rEpisode: {} | Ep_Reward: {:.2f} | Average_100: {:.2f}\".format(ep, test_rewards, np.mean(plot_rewards[-100:])), end = \"\", flush = True)\n",
        "        \n",
        "        \n",
        "\n",
        "    \n",
        "\n",
        "# PLOTTING RESULTS\n",
        "\n",
        "plt.figure(figsize = (20,7))\n",
        "plt.subplot(1,5,1)\n",
        "plt.title(\"actor_loss\")\n",
        "plt.plot(actor_loss_list)\n",
        "plt.subplot(1,5,2)\n",
        "plt.title(\"critic_loss\")\n",
        "plt.plot(critic_loss_list)\n",
        "plt.subplot(1,5,3)\n",
        "plt.title(\"entropy\")\n",
        "plt.plot(entropy_list)\n",
        "plt.subplot(1,5,4)\n",
        "plt.title(\"rewards\")\n",
        "plt.plot(plot_rewards)\n",
        "plt.subplot(1,5,5)\n",
        "plt.title(\"Average100\")\n",
        "plt.plot(average_100)\n",
        "plt.show()"
      ],
      "execution_count": 109,
      "outputs": [
        {
          "output_type": "stream",
          "text": [
            "Episode: 490 | Ep_Reward: -0.54 | Average_100: -3.01"
          ],
          "name": "stdout"
        },
        {
          "output_type": "display_data",
          "data": {
            "image/png": "[encoded data removed]",
            "text/plain": [
              "<Figure size 1440x504 with 5 Axes>"
            ]
          },
          "metadata": {
            "tags": []
          }
        }
      ]
    },
    {
      "cell_type": "code",
      "metadata": {
        "id": "ZJFTutcbBDuT",
        "colab_type": "code",
        "colab": {}
      },
      "source": [
        ""
      ],
      "execution_count": 0,
      "outputs": []
    },
    {
      "cell_type": "code",
      "metadata": {
        "id": "ybXM3k0VBDrz",
        "colab_type": "code",
        "colab": {}
      },
      "source": [
        ""
      ],
      "execution_count": 0,
      "outputs": []
    },
    {
      "cell_type": "code",
      "metadata": {
        "id": "dGbVT6Wo9kOz",
        "colab_type": "code",
        "colab": {}
      },
      "source": [
        ""
      ],
      "execution_count": 0,
      "outputs": []
    }
  ]
}