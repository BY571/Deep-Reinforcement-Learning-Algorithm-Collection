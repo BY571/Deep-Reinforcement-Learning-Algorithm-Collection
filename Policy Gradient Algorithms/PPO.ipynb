{
  "nbformat": 4,
  "nbformat_minor": 0,
  "metadata": {
    "colab": {
      "name": "PPO.ipynb",
      "version": "0.3.2",
      "provenance": [],
      "collapsed_sections": []
    },
    "kernelspec": {
      "name": "python3",
      "display_name": "Python 3"
    }
  },
  "cells": [
    {
      "cell_type": "code",
      "metadata": {
        "id": "ttTfopOjnNox",
        "colab_type": "code",
        "colab": {}
      },
      "source": [
        "import numpy as np\n",
        "import gym\n",
        "from gym import wrappers\n",
        "import torch\n",
        "import torch.nn as nn\n",
        "import torch.optim as optim\n",
        "from torch.distributions import Categorical\n",
        "import matplotlib.pyplot as plt"
      ],
      "execution_count": 0,
      "outputs": []
    },
    {
      "cell_type": "code",
      "metadata": {
        "id": "jB59f8qCngpf",
        "colab_type": "code",
        "colab": {}
      },
      "source": [
        "class Policy(nn.Module):\n",
        "  def __init__(self,input_shape, action_space):\n",
        "    super(Policy, self).__init__()\n",
        "    self.seed = torch.manual_seed(42)\n",
        "    self.pi = nn.Sequential(\n",
        "                              nn.Linear(input_shape,64),\n",
        "                              nn.ReLU(),\n",
        "                              nn.Linear(64, action_space),\n",
        "                              nn.Softmax(dim = -1)\n",
        "                            )\n",
        "    \n",
        "  def forward(self, x):\n",
        "    x = self.pi(x)\n",
        "    dist = Categorical(x)\n",
        "    action = dist.sample()\n",
        "    logprob = dist.log_prob(action)\n",
        "    return action, logprob, dist"
      ],
      "execution_count": 0,
      "outputs": []
    },
    {
      "cell_type": "code",
      "metadata": {
        "id": "XaLe_J__ngk5",
        "colab_type": "code",
        "colab": {}
      },
      "source": [
        "def calc_discounted_rewards(rewards, mask, gamma = 0.975):\n",
        "  R = 0\n",
        "  discounted = []\n",
        "  \n",
        "  for idx in reversed(range(len(rewards))):\n",
        "    R = rewards[idx]+R * gamma * mask[idx]\n",
        "    discounted.insert(0,R)\n",
        "  return discounted"
      ],
      "execution_count": 0,
      "outputs": []
    },
    {
      "cell_type": "code",
      "metadata": {
        "id": "-XxhEdVodc8p",
        "colab_type": "code",
        "colab": {}
      },
      "source": [
        "def ppo_iter(mini_batch_size, states, actions, log_probs, returns, masks):\n",
        "    batch_size = states.size(0)\n",
        "    for _ in range(batch_size // mini_batch_size):\n",
        "        rand_ids = np.random.randint(0, batch_size, mini_batch_size)\n",
        "        yield states[rand_ids], actions[rand_ids], log_probs[rand_ids], returns[rand_ids], masks[rand_ids]\n",
        "        \n",
        "        \n",
        "\n",
        "def ppo_update(ppo_epochs, mini_batch_size, states, actions, log_probs, returns, masks, eps_clip=0.2):\n",
        "    losses = []\n",
        "\n",
        "    for _ in range(ppo_epochs):\n",
        "        for state, action, old_log_probs, return_, mask  in ppo_iter(mini_batch_size, states, actions, log_probs, returns, masks):\n",
        "          #print(state.shape)\n",
        "          _, _, dist = pi(state)\n",
        "          #entropy = dist.entropy().mean()\n",
        "          new_log_probs = dist.log_prob(action)\n",
        "\n",
        "          advantage = torch.Tensor(calc_discounted_rewards(return_, mask))\n",
        "\n",
        "          ratio = torch.exp(new_log_probs - old_log_probs)\n",
        "          surr = ratio * advantage\n",
        "\n",
        "          clip = torch.clamp(ratio, 1.0 - eps_clip, 1.0 + eps_clip) \n",
        "\n",
        "          loss  = - (torch.min(surr, clip*advantage).mean()) #* entropy\n",
        "\n",
        "\n",
        "          optimizer.zero_grad()\n",
        "          loss.backward(retain_graph=True) \n",
        "          optimizer.step()\n",
        "          losses.append(loss.detach().numpy())\n",
        "     \n",
        "    return np.array(losses).mean()\n"
      ],
      "execution_count": 0,
      "outputs": []
    },
    {
      "cell_type": "code",
      "metadata": {
        "id": "H3qr26z2WL1u",
        "colab_type": "code",
        "outputId": "e5c5eb0a-d043-49f6-b62d-d6cdb3968479",
        "colab": {
          "base_uri": "https://localhost:8080/",
          "height": 403
        }
      },
      "source": [
        "env = gym.make(\"CartPole-v0\") \n",
        "input_shape = env.observation_space.shape[0]\n",
        "action_space = env.action_space.n\n",
        "\n",
        "frame_idx = 0\n",
        "max_frames = 300000\n",
        "\n",
        "pi = Policy(input_shape=input_shape, action_space= action_space)\n",
        "optimizer = optim.Adam(pi.parameters(), lr = 0.0001)\n",
        "\n",
        "total_rewards = []\n",
        "total_loss = []\n",
        "\n",
        "max_steps = 200\n",
        "\n",
        "\n",
        "while frame_idx < max_frames:\n",
        "\n",
        "  log_probs = []\n",
        "  actions = []\n",
        "  states = []\n",
        "  rewards = []\n",
        "  masks = []\n",
        "  done = False\n",
        "  state = env.reset()\n",
        "  rewards_plot = 0\n",
        "  \n",
        "  while not done:\n",
        "\n",
        "    state_v = torch.FloatTensor(state).unsqueeze(0)\n",
        "    states.append(state_v)\n",
        "    action, log_prob, _ = pi(state_v)\n",
        "    actions.append(action)\n",
        "    new_state, reward, done, _ = env.step(action.item())\n",
        "    \n",
        "    log_probs.append(log_prob)\n",
        "    rewards.append(reward)\n",
        "    masks.append(1-done)\n",
        "    \n",
        "    state = new_state\n",
        "    rewards_plot += reward\n",
        "    frame_idx += 1\n",
        "    \n",
        "    if done:\n",
        "      break\n",
        "\n",
        "\n",
        "  states = torch.cat(states)\n",
        "  actions = torch.cat(actions)\n",
        "  log_probs = torch.cat(log_probs).detach()\n",
        "  rewards_ = torch.Tensor(rewards)\n",
        "  masks = torch.Tensor(masks)\n",
        "  \n",
        "  #print(\"states \", states.shape)\n",
        "  #print(states,\"\\n\")\n",
        "  #print(\"actions \", actions.shape)\n",
        "  #print(\"log probs\", log_probs.shape)\n",
        "  #print(\"rewards \", rewards_.shape)\n",
        "  #print(\"mask \", masks.shape)\n",
        "  \n",
        "  loss = ppo_update(ppo_epochs = 4, mini_batch_size = 30, states = states, actions = actions, log_probs = log_probs, returns = rewards_, masks = masks)\n",
        "\n",
        "  total_rewards.append(rewards_plot)\n",
        "  total_loss.append(loss)\n",
        "  print(\"\\rRewards: {} | Loss: {}\".format(rewards_plot, loss), end = \"\", flush = True)\n",
        "  \n",
        "plt.figure(figsize = (10,5))\n",
        "plt.subplot(1,2,1)\n",
        "plt.title(\"loss\")\n",
        "plt.plot(total_loss)\n",
        "plt.subplot(1,2,2)\n",
        "plt.title(\"rewards\")\n",
        "plt.plot(total_rewards)\n",
        "plt.show()"
      ],
      "execution_count": 31,
      "outputs": [
        {
          "output_type": "stream",
          "text": [
            "Rewards: 25.0 | Loss: nan"
          ],
          "name": "stdout"
        },
        {
          "output_type": "stream",
          "text": [
            "/usr/local/lib/python3.6/dist-packages/ipykernel_launcher.py:34: RuntimeWarning: Mean of empty slice.\n",
            "/usr/local/lib/python3.6/dist-packages/numpy/core/_methods.py:85: RuntimeWarning: invalid value encountered in double_scalars\n",
            "  ret = ret.dtype.type(ret / rcount)\n"
          ],
          "name": "stderr"
        },
        {
          "output_type": "stream",
          "text": [
            "Rewards: 30.0 | Loss: -10.453255653381348"
          ],
          "name": "stdout"
        },
        {
          "output_type": "display_data",
          "data": {
            "image/png": "[encoded data removed]",
            "text/plain": [
              "<Figure size 720x360 with 2 Axes>"
            ]
          },
          "metadata": {
            "tags": []
          }
        }
      ]
    },
    {
      "cell_type": "code",
      "metadata": {
        "id": "mAInriZJPiAa",
        "colab_type": "code",
        "colab": {}
      },
      "source": [
        ""
      ],
      "execution_count": 0,
      "outputs": []
    }
  ]
}