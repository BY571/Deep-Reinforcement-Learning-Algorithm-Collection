{
  "nbformat": 4,
  "nbformat_minor": 0,
  "metadata": {
    "colab": {
      "name": "DDPG.ipynb",
      "version": "0.3.2",
      "provenance": []
    },
    "kernelspec": {
      "name": "python3",
      "display_name": "Python 3"
    }
  },
  "cells": [
    {
      "metadata": {
        "id": "8Lc6UPtmYXdq",
        "colab_type": "code",
        "colab": {
          "base_uri": "https://localhost:8080/",
          "height": 34
        },
        "outputId": "1a49e45a-5244-47da-e6a4-1068488b9cce"
      },
      "cell_type": "code",
      "source": [
        "!pip install pybullet"
      ],
      "execution_count": 1,
      "outputs": [
        {
          "output_type": "stream",
          "text": [
            "Requirement already satisfied: pybullet in /usr/local/lib/python3.6/dist-packages (2.4.8)\n"
          ],
          "name": "stdout"
        }
      ]
    },
    {
      "metadata": {
        "id": "Ejdlh7H5YYbk",
        "colab_type": "code",
        "colab": {}
      },
      "cell_type": "code",
      "source": [
        "import gym\n",
        "import math\n",
        "import torch \n",
        "import torch.nn as nn\n",
        "import torch.optim as optim\n",
        "from torch.distributions import Categorical\n",
        "import torch.nn.functional as F\n",
        "import numpy as np\n",
        "import matplotlib.pyplot as plt\n",
        "import pybullet_envs\n",
        "import random"
      ],
      "execution_count": 0,
      "outputs": []
    },
    {
      "metadata": {
        "id": "lH7q5BWGYYgL",
        "colab_type": "code",
        "colab": {
          "base_uri": "https://localhost:8080/",
          "height": 51
        },
        "outputId": "f9533270-5619-4e79-db1e-4cd545b0abb6"
      },
      "cell_type": "code",
      "source": [
        "ENV_ID = \"MinitaurBulletEnv-v0\"\n",
        "#RENDER = True\n",
        "#spec = gym.envs.registry.spec(ENV_ID)\n",
        "env = gym.make(ENV_ID)"
      ],
      "execution_count": 18,
      "outputs": [
        {
          "output_type": "stream",
          "text": [
            "urdf_root=/usr/local/lib/python3.6/dist-packages/pybullet_data\n",
            "options= \n"
          ],
          "name": "stdout"
        }
      ]
    },
    {
      "metadata": {
        "id": "HH8YGkjYYYZY",
        "colab_type": "code",
        "colab": {}
      },
      "cell_type": "code",
      "source": [
        "class ReplayBuffer:\n",
        "    def __init__(self, capacity):\n",
        "        self.capacity = capacity\n",
        "        self.buffer = []\n",
        "        self.position = 0\n",
        "    \n",
        "    def push(self, state, action, reward, next_state, done):\n",
        "        if len(self.buffer) < self.capacity:\n",
        "            self.buffer.append(None)\n",
        "        self.buffer[self.position] = (state, action, reward, next_state, done)\n",
        "        self.position = (self.position + 1) % self.capacity\n",
        "    \n",
        "    def sample(self, batch_size):\n",
        "        batch = random.sample(self.buffer, batch_size)\n",
        "        state, action, reward, next_state, done = map(np.stack, zip(*batch))\n",
        "        return state, action, reward, next_state, done\n",
        "    \n",
        "    def __len__(self):\n",
        "        return len(self.buffer)"
      ],
      "execution_count": 0,
      "outputs": []
    },
    {
      "metadata": {
        "id": "6nQur9A9YYXs",
        "colab_type": "code",
        "colab": {}
      },
      "cell_type": "code",
      "source": [
        "class Actor(nn.Module):\n",
        "  def __init__(self, input_shape, output_shape):\n",
        "    super(Actor, self).__init__()\n",
        "    \n",
        "    self.network = nn.Sequential(nn.Linear(input_shape, 400),\n",
        "                                nn.ReLU(),\n",
        "                                nn.Linear(400,300),\n",
        "                                nn.ReLU(),\n",
        "                                nn.Linear(300, output_shape),\n",
        "                                nn.Tanh())\n",
        "  def forward(self,x):\n",
        "    return self.network(x)\n",
        "  \n",
        "class Critic(nn.Module):\n",
        "  def __init__(self, input_shape, action_shape ):\n",
        "    super(Critic, self).__init__()\n",
        "    \n",
        "    self.observation = nn.Sequential(nn.Linear(input_shape, 400),\n",
        "                                nn.ReLU())\n",
        "    \n",
        "    self.critic = nn.Sequential(nn.Linear(400+action_shape,300),\n",
        "                               nn.ReLU(),\n",
        "                               nn.Linear(300, 1)\n",
        "                               )\n",
        "\n",
        "  def forward(self,x,a):\n",
        "    x = self.observation(x)\n",
        "    \n",
        "    inputs_ = torch.cat((x,a),dim = 1)\n",
        "    #print(inputs_.shape)\n",
        "    q_val = self.critic(inputs_)\n",
        "    return q_val"
      ],
      "execution_count": 0,
      "outputs": []
    },
    {
      "metadata": {
        "id": "oVsOlss7YYUV",
        "colab_type": "code",
        "colab": {}
      },
      "cell_type": "code",
      "source": [
        "class OUNoise(object):\n",
        "    def __init__(self, action_space, mu=0.0, theta=0.15, max_sigma=0.3, min_sigma=0.3, decay_period=100000):\n",
        "        self.mu           = mu\n",
        "        self.theta        = theta\n",
        "        self.sigma        = max_sigma\n",
        "        self.max_sigma    = max_sigma\n",
        "        self.min_sigma    = min_sigma\n",
        "        self.decay_period = decay_period\n",
        "        self.action_dim   = action_space.shape[0]\n",
        "        self.low          = action_space.low\n",
        "        self.high         = action_space.high\n",
        "        self.reset()\n",
        "        \n",
        "    def reset(self):\n",
        "        self.state = np.ones(self.action_dim) * self.mu\n",
        "        \n",
        "    def evolve_state(self):\n",
        "        x  = self.state\n",
        "        dx = self.theta * (self.mu - x) + self.sigma * np.random.randn(self.action_dim)\n",
        "        self.state = x + dx\n",
        "        return self.state\n",
        "    \n",
        "    def get_action(self, action, t=0):\n",
        "        ou_state = self.evolve_state()\n",
        "        self.sigma = self.max_sigma - (self.max_sigma - self.min_sigma) * min(1.0, t / self.decay_period)\n",
        "        return np.clip(action + ou_state, self.low, self.high)\n",
        "    \n",
        "#https://github.com/vitchyr/rlkit/blob/master/rlkit/exploration_strategies/ou_strategy.py"
      ],
      "execution_count": 0,
      "outputs": []
    },
    {
      "metadata": {
        "id": "kxDp76k-tIKr",
        "colab_type": "code",
        "colab": {}
      },
      "cell_type": "code",
      "source": [
        ""
      ],
      "execution_count": 0,
      "outputs": []
    },
    {
      "metadata": {
        "id": "Zs6AopF6ll55",
        "colab_type": "code",
        "colab": {
          "base_uri": "https://localhost:8080/",
          "height": 461
        },
        "outputId": "c2d283c6-ff38-4de4-a873-7e1b561ee3c0"
      },
      "cell_type": "code",
      "source": [
        "# init _networks etc\n",
        "BATCHSIZE = 64\n",
        "MEMORY = 1000000\n",
        "GAMMA = 0.99\n",
        "soft_tau = 1e-2\n",
        "input_shape = env.observation_space.shape[0]\n",
        "output_shape = env.action_space.shape[0]\n",
        "\n",
        "\n",
        "actor_net = Actor(input_shape, output_shape)\n",
        "target_actor = actor_net\n",
        "\n",
        "critic_net = Critic(input_shape, output_shape)\n",
        "target_critic = critic_net\n",
        "\n",
        "actor_optim = optim.Adam(actor_net.parameters(),lr = 0.0001)\n",
        "critic_optim = optim.Adam(critic_net.parameters(),lr = 0.001)\n",
        "\n",
        "agent = OUNoise(env.action_space)\n",
        "\n",
        "step_rate = 64\n",
        "\n",
        "buffer = ReplayBuffer(MEMORY)\n",
        "\n",
        "\n",
        "critic_loss_list = []\n",
        "critic_ref = []\n",
        "actor_loss_list = []\n",
        "epoch_reward_list = []\n",
        "epoch_rewards = 0\n",
        "\n",
        "steps_list = []\n",
        "steps = 0\n",
        "frame_idx = 0\n",
        "max_frames = 200000\n",
        "\n",
        "state = env.reset()\n",
        "while frame_idx < max_frames:\n",
        "  agent.reset()\n",
        "  \n",
        "  \n",
        "  for frame in range(step_rate):\n",
        "    state_v = torch.FloatTensor(state)\n",
        "    mu_v = actor_net(state_v)\n",
        "    mu_v = agent.get_action(mu_v.detach().numpy(), frame)\n",
        "    new_state, reward, done, _ = env.step(mu_v)\n",
        "    buffer.push(state_v,torch.FloatTensor(mu_v), torch.FloatTensor([reward]).unsqueeze(1),torch.FloatTensor(new_state), torch.FloatTensor([done]).unsqueeze(1))\n",
        "    epoch_rewards += reward\n",
        "    state = new_state\n",
        "    \n",
        "    steps += 1\n",
        "    frame_idx += 1\n",
        "    \n",
        "    if done == True:\n",
        "      epoch_reward_list.append(epoch_rewards)\n",
        "      steps_list.append(steps)\n",
        "      epoch_rewards = 0\n",
        "      steps = 0\n",
        "      env.reset()\n",
        "  \n",
        "  #run_optimization\n",
        "  \n",
        "  states_v, actions_v, rewards_v, next_states_v, dones_v = buffer.sample(BATCHSIZE)\n",
        "  \n",
        "  # train critic\n",
        "  critic_optim.zero_grad()\n",
        "  actions_v = torch.FloatTensor(actions_v)\n",
        "  next_states_v = torch.FloatTensor(next_states_v)\n",
        "  states_v = torch.FloatTensor(states_v)\n",
        "  rewards_v = torch.FloatTensor(rewards_v)\n",
        "  \n",
        "  q_v = critic_net(next_states_v, actions_v)\n",
        "  last_act_v  = target_actor(states_v)\n",
        "  q_last_v = target_critic(states_v, last_act_v)\n",
        "  \n",
        "  q_last_v[dones_v] = 0.0\n",
        "  \n",
        "  q_ref_v = rewards_v + q_last_v * GAMMA\n",
        "  critic_loss_v = F.mse_loss(q_v, q_ref_v.detach())\n",
        "  critic_loss_v.backward()\n",
        "  critic_optim.step()\n",
        "  critic_loss_list.append(critic_loss_v.mean().item())\n",
        "  critic_ref.append(q_ref_v.mean().item())\n",
        "  \n",
        "  # train actor \n",
        "  actor_optim.zero_grad()\n",
        "  cur_actions_v = actor_net(next_states_v)\n",
        "  actor_loss_v = -critic_net(next_states_v, cur_actions_v).mean()\n",
        "  actor_loss_v.backward()\n",
        "  actor_optim.step()\n",
        "  \n",
        "  actor_loss_list.append(actor_loss_v.item())\n",
        "  \n",
        "  #update target_networks\n",
        "  for target_param, param in zip(target_critic.parameters(), critic_net.parameters()):\n",
        "    target_param.data.copy_(\n",
        "                target_param.data * (1.0 - soft_tau) + param.data * soft_tau\n",
        "            )\n",
        "\n",
        "  for target_param, param in zip(target_actor.parameters(), actor_net.parameters()):\n",
        "    target_param.data.copy_(\n",
        "                target_param.data * (1.0 - soft_tau) + param.data * soft_tau\n",
        "            )\n",
        "\n",
        "# PLOTTING RESULTS\n",
        "\n",
        "plt.figure(figsize = (20,7))\n",
        "plt.subplot(1,5,1)\n",
        "plt.title(\"critic_loss_list\")\n",
        "plt.plot(critic_loss_list)\n",
        "plt.subplot(1,5,2)\n",
        "plt.title(\"critic_ref\")\n",
        "plt.plot(critic_ref)\n",
        "plt.subplot(1,5,3)\n",
        "plt.title(\"actor_loss_list\")\n",
        "plt.plot(actor_loss_list)\n",
        "plt.subplot(1,5,4)\n",
        "plt.title(\"rewards\")\n",
        "plt.plot(epoch_reward_list)\n",
        "plt.subplot(1,5,5)\n",
        "plt.title(\"steps\")\n",
        "plt.plot(steps_list)"
      ],
      "execution_count": 74,
      "outputs": [
        {
          "output_type": "execute_result",
          "data": {
            "text/plain": [
              "[<matplotlib.lines.Line2D at 0x7fadf4d6c080>]"
            ]
          },
          "metadata": {
            "tags": []
          },
          "execution_count": 74
        },
        {
          "output_type": "display_data",
          "data": {
            "image/png": "[encoded data removed]",
            "text/plain": [
              "<Figure size 1440x504 with 5 Axes>"
            ]
          },
          "metadata": {
            "tags": []
          }
        }
      ]
    },
    {
      "metadata": {
        "id": "3g1XQa0PqJY0",
        "colab_type": "code",
        "colab": {}
      },
      "cell_type": "code",
      "source": [
        ""
      ],
      "execution_count": 0,
      "outputs": []
    },
    {
      "metadata": {
        "id": "iK_cP4xpv0VT",
        "colab_type": "code",
        "colab": {}
      },
      "cell_type": "code",
      "source": [
        ""
      ],
      "execution_count": 0,
      "outputs": []
    },
    {
      "metadata": {
        "id": "3P4rMOKc9uvc",
        "colab_type": "code",
        "colab": {}
      },
      "cell_type": "code",
      "source": [
        ""
      ],
      "execution_count": 0,
      "outputs": []
    },
    {
      "metadata": {
        "id": "leCm6fPS-clZ",
        "colab_type": "code",
        "colab": {
          "base_uri": "https://localhost:8080/",
          "height": 34
        },
        "outputId": "0919a6a6-d100-45b9-8529-40e8ccdc6a4b"
      },
      "cell_type": "code",
      "source": [
        ""
      ],
      "execution_count": 57,
      "outputs": [
        {
          "output_type": "execute_result",
          "data": {
            "text/plain": [
              "torch.Size([32, 408])"
            ]
          },
          "metadata": {
            "tags": []
          },
          "execution_count": 57
        }
      ]
    }
  ]
}