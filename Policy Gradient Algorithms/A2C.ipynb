{
  "nbformat": 4,
  "nbformat_minor": 0,
  "metadata": {
    "colab": {
      "name": "A2C.ipynb",
      "version": "0.3.2",
      "provenance": [],
      "collapsed_sections": []
    },
    "kernelspec": {
      "name": "python3",
      "display_name": "Python 3"
    }
  },
  "cells": [
    {
      "metadata": {
        "id": "FB3d2FuaCfon",
        "colab_type": "code",
        "colab": {}
      },
      "cell_type": "code",
      "source": [
        "import math\n",
        "import random\n",
        "\n",
        "import gym\n",
        "import numpy as np\n",
        "\n",
        "import torch\n",
        "import torch.nn as nn\n",
        "import torch.optim as optim\n",
        "import torch.nn.functional as F\n",
        "from torch.distributions import Categorical\n",
        "from torch.nn.utils import clip_grad_norm_\n",
        "import matplotlib.pyplot as plt\n"
      ],
      "execution_count": 0,
      "outputs": []
    },
    {
      "metadata": {
        "id": "wVj1QwlML3J0",
        "colab_type": "code",
        "colab": {}
      },
      "cell_type": "code",
      "source": [
        "env_name = \"CartPole-v0\"  #CartPole-v0\n",
        "num_envs = 16\n",
        "\n",
        "def make_env():\n",
        "    def _thunk():\n",
        "        env = gym.make(env_name)\n",
        "        return env\n",
        "\n",
        "    return _thunk\n",
        "\n",
        "envs = [make_env() for i in range(num_envs)]\n",
        "envs = SubprocVecEnv(envs)\n",
        "env = gym.make(env_name)\n"
      ],
      "execution_count": 0,
      "outputs": []
    },
    {
      "metadata": {
        "id": "ugd3EgPbCqFl",
        "colab_type": "code",
        "colab": {}
      },
      "cell_type": "code",
      "source": [
        "\n",
        "\n",
        "class A2C(nn.Module):\n",
        "  def __init__(self, input_shape, action_space):\n",
        "    super(A2C, self).__init__()\n",
        "     \n",
        "    \n",
        "    self.actor = nn.Sequential(\n",
        "            nn.Linear(input_shape[0], 256),\n",
        "            nn.ReLU(),\n",
        "            nn.Linear(256, action_space),\n",
        "            nn.Softmax(dim=1)\n",
        "     )\n",
        "    self.critic = nn.Sequential(\n",
        "            nn.Linear(input_shape[0], 256),\n",
        "            nn.ReLU(),\n",
        "            nn.Linear(256,1)\n",
        "     )\n",
        "    \n",
        "  def forward(self,x):\n",
        "    value = self.critic(x)\n",
        "    probs = self.actor(x)\n",
        "    dist  = Categorical(probs)\n",
        "    return dist, value\n",
        "    "
      ],
      "execution_count": 0,
      "outputs": []
    },
    {
      "metadata": {
        "id": "r16pBiCRCp7A",
        "colab_type": "code",
        "colab": {}
      },
      "cell_type": "code",
      "source": [
        "  \n",
        "def test_current_model():\n",
        "    state = env.reset()\n",
        "    done = False\n",
        "    total_reward = 0\n",
        "    while not done:\n",
        "        state = torch.FloatTensor(state).unsqueeze(0)\n",
        "        dist, _ = model(state)\n",
        "        next_state, reward, done, _ = env.step(dist.sample().numpy()[0]) #[0]\n",
        "        state = next_state\n",
        "        total_reward += reward\n",
        "    return total_reward"
      ],
      "execution_count": 0,
      "outputs": []
    },
    {
      "metadata": {
        "id": "SoGONMlzNabz",
        "colab_type": "code",
        "colab": {}
      },
      "cell_type": "code",
      "source": [
        "GAMMA = 0.99\n",
        "def compute_returns(terminal_reward, rewards,masks, gamma=GAMMA):\n",
        "    R = terminal_reward\n",
        "    returns = []\n",
        "    for step in reversed(range(len(rewards))):\n",
        "        R = rewards[step] + gamma * R * masks[step]\n",
        "        returns.insert(0, R)\n",
        "    return returns\n",
        "  "
      ],
      "execution_count": 0,
      "outputs": []
    },
    {
      "metadata": {
        "id": "JNlDFx3gDzaI",
        "colab_type": "code",
        "colab": {}
      },
      "cell_type": "code",
      "source": [
        "def run_optimization(next_state, model, log_probs, values, rewards, masks, entropy):\n",
        "    next_state = torch.FloatTensor(next_state)\n",
        "    _, next_value = model(next_state)\n",
        "   \n",
        "    discounted_rewards = torch.cat(compute_returns(next_value, rewards, masks)).detach()\n",
        "\n",
        "\n",
        "    log_probs           = torch.cat(log_probs)\n",
        "    values              = torch.cat(values)\n",
        "\n",
        "    # A(s,a) = Q(s,a)- V(s)\n",
        "    advantage = discounted_rewards - values.detach() # important! since we dont want to propagate the policy gradient into our value approximation head\n",
        "    # policy_loss\n",
        "    actor_loss  = -(log_probs * advantage).mean() \n",
        "    #actor_loss.backward(retain_graph = True)\n",
        "    \n",
        "    value_loss = F.mse_loss(values, discounted_rewards) \n",
        "    #value_loss = advantage.pow(2).mean()   # same as above\n",
        "\n",
        "    actor_loss_list.append(actor_loss)\n",
        "    value_loss_list.append(value_loss)\n",
        "    entropy_list.append(entropy)\n",
        "    \n",
        "    loss = actor_loss+ value_loss - ENTROPY_BETA * entropy.detach() #actor_loss + 0.5*value\n",
        "    \n",
        "    optimizer.zero_grad()\n",
        "    loss.backward()\n",
        "    #clip_grad_norm_(model.parameters(),CLIP_GRAD)\n",
        "    optimizer.step()"
      ],
      "execution_count": 0,
      "outputs": []
    },
    {
      "metadata": {
        "id": "8Xoouzgx_VNF",
        "colab_type": "code",
        "outputId": "b857a6fa-cb28-4ba2-833f-e9dcdb8b054c",
        "colab": {
          "base_uri": "https://localhost:8080/",
          "height": 407
        }
      },
      "cell_type": "code",
      "source": [
        "ENTROPY_BETA = 0.001  \n",
        "GAMMA = 0.99\n",
        "CLIP_GRAD = 0.1\n",
        "\n",
        "input_shape  = envs.observation_space.shape\n",
        "output_shape = envs.action_space.n\n",
        "model = A2C(input_shape, output_shape)\n",
        "optimizer = optim.Adam(params = model.parameters(),lr = 0.001)\n",
        "\n",
        "max_frames   = 10000\n",
        "frame_idx    = 0\n",
        "test_rewards = []\n",
        "\n",
        "actor_loss_list = []\n",
        "value_loss_list = []\n",
        "entropy_list = []\n",
        "\n",
        "plot_rewards = []\n",
        "n_steps = 10\n",
        "\n",
        "state = envs.reset()\n",
        "\n",
        "while frame_idx < max_frames:\n",
        "\n",
        "    log_probs = []\n",
        "    values    = []\n",
        "    rewards   = []\n",
        "    masks     = []\n",
        "    entropy = 0\n",
        "\n",
        "\n",
        "    for _ in range(n_steps):\n",
        "        state = torch.FloatTensor(state)\n",
        "        dist, value = model(state)\n",
        "\n",
        "        action = dist.sample()\n",
        "        next_state, reward, done, _ = envs.step(action.numpy())\n",
        "\n",
        "        log_prob = dist.log_prob(action)\n",
        "        entropy += dist.entropy().mean()\n",
        "        \n",
        "        log_probs.append(log_prob)\n",
        "        values.append(value)\n",
        "        rewards.append(torch.FloatTensor(reward).unsqueeze(1))\n",
        "        masks.append(torch.FloatTensor(1 - done).unsqueeze(1))\n",
        "\n",
        "        \n",
        "        state = next_state\n",
        "        frame_idx += 1\n",
        "        \n",
        "        if frame_idx % 1000 == 0:\n",
        "            test_rewards = test_current_model()\n",
        "            plot_rewards.append(test_rewards)\n",
        "            \n",
        "    run_optimization(next_state, model, log_probs, values, rewards,masks, entropy)\n",
        "\n",
        "    \n",
        "    \n",
        "    \n",
        "\n",
        "# PLOTTING RESULTS\n",
        "\n",
        "plt.figure(figsize = (18,6))\n",
        "plt.subplot(1,4,1)\n",
        "plt.title(\"policy_loss\")\n",
        "plt.plot(actor_loss_list)\n",
        "plt.subplot(1,4,2)\n",
        "plt.title(\"value_loss\")\n",
        "plt.plot(value_loss_list)\n",
        "plt.subplot(1,4,3)\n",
        "plt.title(\"entropy\")\n",
        "plt.plot(entropy_list)\n",
        "plt.subplot(1,4,4)\n",
        "plt.title(\"rewards\")\n",
        "plt.plot(plot_rewards)"
      ],
      "execution_count": 36,
      "outputs": [
        {
          "output_type": "execute_result",
          "data": {
            "text/plain": [
              "[<matplotlib.lines.Line2D at 0x7f1e3d07ce10>]"
            ]
          },
          "metadata": {
            "tags": []
          },
          "execution_count": 36
        },
        {
          "output_type": "display_data",
          "data": {
            "image/png": "[encoded data removed]",
            "text/plain": [
              "<Figure size 1296x432 with 4 Axes>"
            ]
          },
          "metadata": {
            "tags": []
          }
        }
      ]
    },
    {
      "metadata": {
        "id": "-jwA2Ay3J4KV",
        "colab_type": "code",
        "colab": {}
      },
      "cell_type": "code",
      "source": [
        "a = torch.Tensor([0.4764, 0.1444, 0.3931, 0.2760])"
      ],
      "execution_count": 0,
      "outputs": []
    },
    {
      "metadata": {
        "id": "iOV7J4JFJ7jg",
        "colab_type": "code",
        "outputId": "031bc98d-b6f5-49e4-87bd-b9f3c5a925c7",
        "colab": {
          "base_uri": "https://localhost:8080/",
          "height": 34
        }
      },
      "cell_type": "code",
      "source": [
        ""
      ],
      "execution_count": 0,
      "outputs": [
        {
          "output_type": "execute_result",
          "data": {
            "text/plain": [
              "tensor(0.2760)"
            ]
          },
          "metadata": {
            "tags": []
          },
          "execution_count": 44
        }
      ]
    },
    {
      "metadata": {
        "id": "0bCK1w2dPqHh",
        "colab_type": "text"
      },
      "cell_type": "markdown",
      "source": [
        "**FOR MULTI-ENVIRONMENT**\n"
      ]
    },
    {
      "metadata": {
        "id": "bey1_-hnPpvQ",
        "colab_type": "code",
        "colab": {}
      },
      "cell_type": "code",
      "source": [
        "from multiprocessing import Process, Pipe\n",
        "\n",
        "def worker(remote, parent_remote, env_fn_wrapper):\n",
        "    parent_remote.close()\n",
        "    env = env_fn_wrapper.x()\n",
        "    while True:\n",
        "        cmd, data = remote.recv()\n",
        "        if cmd == 'step':\n",
        "            ob, reward, done, info = env.step(data)\n",
        "            if done:\n",
        "                ob = env.reset()\n",
        "            remote.send((ob, reward, done, info))\n",
        "        elif cmd == 'reset':\n",
        "            ob = env.reset()\n",
        "            remote.send(ob)\n",
        "        elif cmd == 'reset_task':\n",
        "            ob = env.reset_task()\n",
        "            remote.send(ob)\n",
        "        elif cmd == 'close':\n",
        "            remote.close()\n",
        "            break\n",
        "        elif cmd == 'get_spaces':\n",
        "            remote.send((env.observation_space, env.action_space))\n",
        "        else:\n",
        "            raise NotImplementedError\n",
        "\n",
        "class CloudpickleWrapper(object):\n",
        "    \"\"\"\n",
        "    Uses cloudpickle to serialize contents (otherwise multiprocessing tries to use pickle)\n",
        "    \"\"\"\n",
        "    def __init__(self, x):\n",
        "        self.x = x\n",
        "    def __getstate__(self):\n",
        "        import cloudpickle\n",
        "        return cloudpickle.dumps(self.x)\n",
        "    def __setstate__(self, ob):\n",
        "        import pickle\n",
        "        self.x = pickle.loads(ob)\n",
        "        \n",
        "\n",
        "class VecEnv(object):\n",
        "    \"\"\"\n",
        "    An abstract asynchronous, vectorized environment.\n",
        "    \"\"\"\n",
        "    def __init__(self, num_envs, observation_space, action_space):\n",
        "        self.num_envs = num_envs\n",
        "        self.observation_space = observation_space\n",
        "        self.action_space = action_space\n",
        "\n",
        "    def reset(self):\n",
        "        \"\"\"\n",
        "        Reset all the environments and return an array of\n",
        "        observations, or a tuple of observation arrays.\n",
        "        If step_async is still doing work, that work will\n",
        "        be cancelled and step_wait() should not be called\n",
        "        until step_async() is invoked again.\n",
        "        \"\"\"\n",
        "        pass\n",
        "\n",
        "    def step_async(self, actions):\n",
        "        \"\"\"\n",
        "        Tell all the environments to start taking a step\n",
        "        with the given actions.\n",
        "        Call step_wait() to get the results of the step.\n",
        "        You should not call this if a step_async run is\n",
        "        already pending.\n",
        "        \"\"\"\n",
        "        pass\n",
        "\n",
        "    def step_wait(self):\n",
        "        \"\"\"\n",
        "        Wait for the step taken with step_async().\n",
        "        Returns (obs, rews, dones, infos):\n",
        "         - obs: an array of observations, or a tuple of\n",
        "                arrays of observations.\n",
        "         - rews: an array of rewards\n",
        "         - dones: an array of \"episode done\" booleans\n",
        "         - infos: a sequence of info objects\n",
        "        \"\"\"\n",
        "        pass\n",
        "\n",
        "    def close(self):\n",
        "        \"\"\"\n",
        "        Clean up the environments' resources.\n",
        "        \"\"\"\n",
        "        pass\n",
        "\n",
        "    def step(self, actions):\n",
        "        self.step_async(actions)\n",
        "        return self.step_wait()\n",
        "\n",
        "class SubprocVecEnv(VecEnv):\n",
        "    def __init__(self, env_fns, spaces=None):\n",
        "        \"\"\"\n",
        "        envs: list of gym environments to run in subprocesses\n",
        "        \"\"\"\n",
        "        self.waiting = False\n",
        "        self.closed = False\n",
        "        nenvs = len(env_fns)\n",
        "        self.nenvs = nenvs\n",
        "        self.remotes, self.work_remotes = zip(*[Pipe() for _ in range(nenvs)])\n",
        "        self.ps = [Process(target=worker, args=(work_remote, remote, CloudpickleWrapper(env_fn)))\n",
        "            for (work_remote, remote, env_fn) in zip(self.work_remotes, self.remotes, env_fns)]\n",
        "        for p in self.ps:\n",
        "            p.daemon = True # if the main process crashes, we should not cause things to hang\n",
        "            p.start()\n",
        "        for remote in self.work_remotes:\n",
        "            remote.close()\n",
        "\n",
        "        self.remotes[0].send(('get_spaces', None))\n",
        "        observation_space, action_space = self.remotes[0].recv()\n",
        "        VecEnv.__init__(self, len(env_fns), observation_space, action_space)\n",
        "\n",
        "    def step_async(self, actions):\n",
        "        for remote, action in zip(self.remotes, actions):\n",
        "            remote.send(('step', action))\n",
        "        self.waiting = True\n",
        "\n",
        "    def step_wait(self):\n",
        "        results = [remote.recv() for remote in self.remotes]\n",
        "        self.waiting = False\n",
        "        obs, rews, dones, infos = zip(*results)\n",
        "        return np.stack(obs), np.stack(rews), np.stack(dones), infos\n",
        "\n",
        "    def reset(self):\n",
        "        for remote in self.remotes:\n",
        "            remote.send(('reset', None))\n",
        "        return np.stack([remote.recv() for remote in self.remotes])\n",
        "\n",
        "    def reset_task(self):\n",
        "        for remote in self.remotes:\n",
        "            remote.send(('reset_task', None))\n",
        "        return np.stack([remote.recv() for remote in self.remotes])\n",
        "\n",
        "    def close(self):\n",
        "        if self.closed:\n",
        "            return\n",
        "        if self.waiting:\n",
        "            for remote in self.remotes:            \n",
        "                remote.recv()\n",
        "        for remote in self.remotes:\n",
        "            remote.send(('close', None))\n",
        "        for p in self.ps:\n",
        "            p.join()\n",
        "            self.closed = True\n",
        "            \n",
        "    def __len__(self):\n",
        "        return self.nenvs\n"
      ],
      "execution_count": 0,
      "outputs": []
    },
    {
      "metadata": {
        "id": "PuMMxJPvQHtv",
        "colab_type": "code",
        "colab": {}
      },
      "cell_type": "code",
      "source": [
        ""
      ],
      "execution_count": 0,
      "outputs": []
    },
    {
      "metadata": {
        "id": "yggRUI60QQGf",
        "colab_type": "code",
        "colab": {}
      },
      "cell_type": "code",
      "source": [
        "\n"
      ],
      "execution_count": 0,
      "outputs": []
    },
    {
      "metadata": {
        "id": "WIg5ot_0PkU8",
        "colab_type": "code",
        "colab": {}
      },
      "cell_type": "code",
      "source": [
        ""
      ],
      "execution_count": 0,
      "outputs": []
    },
    {
      "metadata": {
        "id": "wYeStdf-_VFN",
        "colab_type": "code",
        "colab": {}
      },
      "cell_type": "code",
      "source": [
        ""
      ],
      "execution_count": 0,
      "outputs": []
    }
  ]
}